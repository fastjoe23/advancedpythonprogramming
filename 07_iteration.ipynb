{
 "cells": [
  {
   "cell_type": "markdown",
   "metadata": {},
   "source": [
    "# Iteration implementieren\n",
    "\n",
    "## Agenda\n",
    "\n",
    "1. Rückblick: Iteration\n",
    "2. Einzelheiten: *iterables*, *iterators*, `iter`, und `next`\n",
    "3. Implementierung von Iteratoren mit Klassen\n",
    "4. Implementierung von Iteratoren mit *Generatoren* und `yield`"
   ]
  },
  {
   "cell_type": "markdown",
   "metadata": {},
   "source": [
    "# Was ist Iteration?\n",
    "\n",
    "Unter *Iteration* versteht man einfach den Prozess des Zugriffs - einer nach dem anderen - auf die in einem Container gespeicherten Elemente. Die Reihenfolge der Elemente und ob die Iteration umfassend ist oder nicht, hängt vom Container ab.\n",
    "\n",
    "In Python wird die Iteration in der Regel mit der Schleife \"for\" durchgeführt."
   ]
  },
  {
   "cell_type": "code",
   "execution_count": null,
   "metadata": {},
   "outputs": [],
   "source": [
    "# e.g., iterating over a list\n",
    "l = [2**x for x in range(10)]\n",
    "for n in l:\n",
    "    print(n)"
   ]
  },
  {
   "cell_type": "code",
   "execution_count": null,
   "metadata": {},
   "outputs": [],
   "source": [
    "# e.g., iterating over the key-value pairs in a dictionary\n",
    "d = {x:2**x for x in range(10)}\n",
    "for k,v in d.items():\n",
    "    print(k, '=>', v)"
   ]
  },
  {
   "cell_type": "markdown",
   "metadata": {},
   "source": [
    "## Review: *iterables*, *iterators*, `iter`, and `next`\n",
    "\n",
    "Wir können über alles iterieren, was *iterable* ist. Intuitiv ist etwas, das als Quelle von Elementen in einer \"for\"-Schleife verwendet werden kann, iterierbar.\n",
    "\n",
    "Aber wie funktioniert eine \"for\"-Schleife wirklich? (Zeit für einen Rückblick!)\n",
    "Suchen Sie in der Python-Dokumentation nach den Objekten [iter()](https://docs.python.org/3/library/functions.html#iter) und [iterator](https://docs.python.org/3/glossary.html#term-iterator)."
   ]
  },
  {
   "cell_type": "code",
   "execution_count": null,
   "metadata": {},
   "outputs": [],
   "source": [
    "a = 'Hi'\n",
    "itr = iter(a)\n",
    "type(itr)"
   ]
  },
  {
   "cell_type": "code",
   "execution_count": null,
   "metadata": {},
   "outputs": [],
   "source": [
    "next(itr)"
   ]
  },
  {
   "cell_type": "code",
   "execution_count": null,
   "metadata": {},
   "outputs": [],
   "source": [
    "next(itr)"
   ]
  },
  {
   "cell_type": "code",
   "execution_count": null,
   "metadata": {},
   "outputs": [],
   "source": [
    "next(itr)"
   ]
  },
  {
   "cell_type": "markdown",
   "metadata": {},
   "source": [
    "Was wir also wirklich machen:"
   ]
  },
  {
   "cell_type": "code",
   "execution_count": null,
   "metadata": {},
   "outputs": [],
   "source": [
    "l = [2**x for x in range(10)]\n",
    "\n",
    "itr = iter(l)\n",
    "while True:\n",
    "    try:\n",
    "        n = next(itr)\n",
    "        print(n)\n",
    "    except StopIteration:\n",
    "        break"
   ]
  },
  {
   "cell_type": "markdown",
   "metadata": {},
   "source": [
    "# Iterator Klassen implementieren"
   ]
  },
  {
   "cell_type": "code",
   "execution_count": null,
   "metadata": {},
   "outputs": [],
   "source": [
    "class MyIterator:\n",
    "    def __init__(self, max):\n",
    "        self.max = max\n",
    "        self.curr = 0\n",
    "        \n",
    "    # the following methods are required for iterator objects\n",
    "    \n",
    "    def __next__(self):\n",
    "        pass\n",
    "    \n",
    "    def __iter__(self):\n",
    "        pass"
   ]
  },
  {
   "cell_type": "code",
   "execution_count": null,
   "metadata": {},
   "outputs": [],
   "source": [
    "it = MyIterator(10)"
   ]
  },
  {
   "cell_type": "code",
   "execution_count": null,
   "metadata": {},
   "outputs": [],
   "source": [
    "next(it)"
   ]
  },
  {
   "cell_type": "code",
   "execution_count": null,
   "metadata": {},
   "outputs": [],
   "source": [
    "it = MyIterator(10)\n",
    "while True:\n",
    "    try:\n",
    "        print(next(it))\n",
    "    except StopIteration:\n",
    "        break"
   ]
  },
  {
   "cell_type": "code",
   "execution_count": null,
   "metadata": {},
   "outputs": [],
   "source": [
    "it = MyIterator(10)\n",
    "for i in it:\n",
    "    print(i)"
   ]
  },
  {
   "cell_type": "markdown",
   "metadata": {},
   "source": [
    "Ein Iterator ist ein *Einmalgebrauchsobjekt*! D.h., wenn wir ihn einmal benutzt haben, um über Elemente zu iterieren, können wir die Iteration normalerweise nicht zurücksetzen oder \"zurückspulen\". Iterable-Objekte, die wiederholt durchlaufen werden können, geben bei jedem Durchlauf neue Iteratoren zurück."
   ]
  },
  {
   "cell_type": "code",
   "execution_count": null,
   "metadata": {},
   "outputs": [],
   "source": [
    "l = ['a', 'b', 'c', 'd', 'e']\n",
    "for _ in range(3):\n",
    "    for x in l:\n",
    "        print(x, end=' ')"
   ]
  },
  {
   "cell_type": "code",
   "execution_count": null,
   "metadata": {},
   "outputs": [],
   "source": [
    "l = ['a', 'b', 'c', 'd', 'e']\n",
    "for _ in range(3):\n",
    "    it = iter(l) # we obtain and \"use up\" an iterator each loop!\n",
    "    while True:\n",
    "        try:\n",
    "            x = next(it)\n",
    "            print(x, end=' ')\n",
    "        except StopIteration:\n",
    "            break"
   ]
  },
  {
   "cell_type": "markdown",
   "metadata": {},
   "source": [
    "Für eine beliebige Container-Klasse benötigen wir eine `__iter__()` Methode, welche ein Iterator-Objekt zurückliefert."
   ]
  },
  {
   "cell_type": "code",
   "execution_count": null,
   "metadata": {},
   "outputs": [],
   "source": [
    "class SnackBox:\n",
    "    def __init__(self, snacks):\n",
    "        self.snacks = snacks\n",
    "        self.index = 0\n",
    "\n",
    "    def __iter__(self):\n",
    "        class SnackBoxIterator:\n",
    "            def __init__(self, data):\n",
    "                self.data = data\n",
    "                self.index = 0        \n",
    "        \n",
    "            def __next__(self):\n",
    "                if self.index < len(self.data):\n",
    "                    snack = self.data[self.index]\n",
    "                    self.index += 1\n",
    "                    return snack\n",
    "                else:\n",
    "                    raise StopIteration\n",
    "\n",
    "            def __iter__(self):\n",
    "                return self\n",
    "\n",
    "        return SnackBoxIterator(self.snacks)\n",
    "                "
   ]
  },
  {
   "cell_type": "code",
   "execution_count": null,
   "metadata": {},
   "outputs": [],
   "source": [
    "# Beispiel für die Verwendung der SnackBox\n",
    "snack_box = SnackBox([\"Chips\", \"Schokolade\", \"Gummibärchen\", \"Nüsse\", \"Kekse\"])\n",
    "\n",
    "for snack in snack_box:\n",
    "    print(snack)"
   ]
  },
  {
   "cell_type": "code",
   "execution_count": null,
   "metadata": {},
   "outputs": [],
   "source": [
    "it = iter(snack_box)\n",
    "type(it)"
   ]
  },
  {
   "cell_type": "markdown",
   "metadata": {},
   "source": [
    "# Iteratoren mit Generatoren implementieren\n",
    "\n",
    "In der Einführung hatten wir *Generatoren* besprochen. "
   ]
  },
  {
   "cell_type": "code",
   "execution_count": null,
   "metadata": {},
   "outputs": [],
   "source": [
    "# Liste vs Generator\n",
    "l = [2*x for x in range(10)]\n",
    "g = (2*x for x in range(10))"
   ]
  },
  {
   "cell_type": "code",
   "execution_count": null,
   "metadata": {},
   "outputs": [],
   "source": [
    "next(g)"
   ]
  },
  {
   "cell_type": "markdown",
   "metadata": {},
   "source": [
    "# Generator-Funktionen bauen mit `yield"
   ]
  },
  {
   "cell_type": "code",
   "execution_count": null,
   "metadata": {},
   "outputs": [],
   "source": [
    "def foo():\n",
    "    yield"
   ]
  },
  {
   "cell_type": "code",
   "execution_count": null,
   "metadata": {},
   "outputs": [],
   "source": [
    "foo()"
   ]
  },
  {
   "cell_type": "code",
   "execution_count": null,
   "metadata": {},
   "outputs": [],
   "source": [
    "type(foo())"
   ]
  },
  {
   "cell_type": "code",
   "execution_count": null,
   "metadata": {},
   "outputs": [],
   "source": [
    "def foo():\n",
    "    print('hello!')\n",
    "    yield\n",
    "    print('goodbye!')"
   ]
  },
  {
   "cell_type": "code",
   "execution_count": null,
   "metadata": {},
   "outputs": [],
   "source": [
    "foo()"
   ]
  },
  {
   "cell_type": "code",
   "execution_count": null,
   "metadata": {},
   "outputs": [],
   "source": [
    "g = foo()"
   ]
  },
  {
   "cell_type": "code",
   "execution_count": null,
   "metadata": {},
   "outputs": [],
   "source": [
    "next(g)"
   ]
  },
  {
   "cell_type": "code",
   "execution_count": null,
   "metadata": {},
   "outputs": [],
   "source": [
    "next(g)"
   ]
  },
  {
   "cell_type": "code",
   "execution_count": null,
   "metadata": {},
   "outputs": [],
   "source": [
    "def foo():\n",
    "    yield 1\n",
    "    yield 2\n",
    "    yield 3"
   ]
  },
  {
   "cell_type": "code",
   "execution_count": null,
   "metadata": {},
   "outputs": [],
   "source": [
    "g = foo()"
   ]
  },
  {
   "cell_type": "code",
   "execution_count": null,
   "metadata": {},
   "outputs": [],
   "source": [
    "next(g)"
   ]
  },
  {
   "cell_type": "code",
   "execution_count": null,
   "metadata": {},
   "outputs": [],
   "source": [
    "for x in foo():\n",
    "    print(x)"
   ]
  },
  {
   "cell_type": "code",
   "execution_count": null,
   "metadata": {},
   "outputs": [],
   "source": [
    "def countdown(n):\n",
    "    for x in range(n, 0, -1):\n",
    "        yield x\n",
    "    yield 'Boom!'"
   ]
  },
  {
   "cell_type": "code",
   "execution_count": null,
   "metadata": {},
   "outputs": [],
   "source": [
    "for x in countdown(5):\n",
    "    print(x)"
   ]
  },
  {
   "cell_type": "code",
   "execution_count": null,
   "metadata": {},
   "outputs": [],
   "source": [
    "list(countdown(10))"
   ]
  },
  {
   "cell_type": "markdown",
   "metadata": {},
   "source": [
    "Eine *Generatorfunktion* ist eine Funktion, die eine oder mehrere `yield`-Anweisungen enthält. Wenn eine Generatorfunktion aufgerufen wird, gibt sie ein Generatorobjekt zurück, das es uns ermöglicht, die Funktion mithilfe der Iterations-API schrittweise auszuführen. Jeder Aufruf von `next` auf dem Generator führt die Funktion bis zur nächsten `yield`-Anweisung aus; wenn die Funktion beendet ist, löst der Generator eine `StopIteration`-Ausnahme aus (genau wie ein Iterator).\n",
    "\n",
    "Damit eignen sich Generatoren hervorragend zum iterieren:"
   ]
  },
  {
   "cell_type": "code",
   "execution_count": null,
   "metadata": {},
   "outputs": [],
   "source": [
    "class SnackBox:\n",
    "    def __init__(self, snacks):\n",
    "        self.snacks = snacks\n",
    "        self.index = 0\n",
    "\n",
    "    def __iter__(self):\n",
    "        for i in range(len(self.snacks)):\n",
    "            yield self.snacks[i]"
   ]
  },
  {
   "cell_type": "code",
   "execution_count": null,
   "metadata": {},
   "outputs": [],
   "source": [
    "# Beispiel für die Verwendung der SnackBox\n",
    "snack_box = SnackBox([\"Chips\", \"Schokolade\", \"Gummibärchen\", \"Nüsse\", \"Kekse\"])\n",
    "\n",
    "for snack in snack_box:\n",
    "    print(snack)"
   ]
  },
  {
   "cell_type": "markdown",
   "metadata": {},
   "source": [
    "#### Aufgabe 1: Einfacher Iterator\n",
    "\n",
    "Erstellen Sie eine Klasse `NumberIterator`, die eine Liste von Zahlen von 1 bis 10 enthält. Implementieren Sie die Methoden `__iter__()` und `__next__()`, sodass man über die Zahlen iterieren kann.\n"
   ]
  },
  {
   "cell_type": "code",
   "execution_count": null,
   "metadata": {},
   "outputs": [],
   "source": [
    "class NumberIterator:\n",
    "    def __init__(self):\n",
    "        self.numbers = list(range(1, 11))\n",
    "        self.index = 0\n",
    "\n",
    "    def __iter__(self):\n",
    "        return self\n",
    "\n",
    "    def __next__(self):\n",
    "        if self.index < len(self.numbers):\n",
    "            number = self.numbers[self.index]\n",
    "            self.index += 1\n",
    "            return number\n",
    "        else:\n",
    "            raise StopIteration"
   ]
  },
  {
   "cell_type": "code",
   "execution_count": null,
   "metadata": {},
   "outputs": [],
   "source": [
    "number_iterator = NumberIterator()\n",
    "for number in number_iterator:\n",
    "    print(number)"
   ]
  },
  {
   "cell_type": "markdown",
   "metadata": {},
   "source": [
    "#### Aufgabe 2: Generator mit `yield`\n",
    "\n",
    "Erstellen Sie eine Generatorfunktion `even_numbers(n)`, die die ersten `n` geraden Zahlen zurückgibt. Testen Sie die Funktion, indem Sie die ersten 10 geraden Zahlen ausgeben.\n"
   ]
  },
  {
   "cell_type": "code",
   "execution_count": null,
   "metadata": {},
   "outputs": [],
   "source": [
    "def even_numbers(n):\n",
    "    for i in range(n):\n",
    "        yield 2 * i"
   ]
  },
  {
   "cell_type": "code",
   "execution_count": null,
   "metadata": {},
   "outputs": [],
   "source": [
    "for number in even_numbers(10):\n",
    "    print(number)"
   ]
  }
 ],
 "metadata": {
  "kernelspec": {
   "display_name": "Python 3",
   "language": "python",
   "name": "python3"
  },
  "language_info": {
   "codemirror_mode": {
    "name": "ipython",
    "version": 3
   },
   "file_extension": ".py",
   "mimetype": "text/x-python",
   "name": "python",
   "nbconvert_exporter": "python",
   "pygments_lexer": "ipython3",
   "version": "3.11.9"
  }
 },
 "nbformat": 4,
 "nbformat_minor": 2
}
