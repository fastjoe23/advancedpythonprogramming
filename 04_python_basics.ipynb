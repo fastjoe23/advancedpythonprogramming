{
 "cells": [
  {
   "cell_type": "markdown",
   "metadata": {},
   "source": [
    "# Python Crash Course 2\n",
    "\n",
    "# Agenda\n",
    "Innerhalb dieses Notebooks behandeln wir:\n",
    "\n",
    "- Funktionen\n",
    "- Objektorientierung\n",
    "- Funktionale Programmierung"
   ]
  },
  {
   "cell_type": "markdown",
   "metadata": {},
   "source": [
    "## Funktionen"
   ]
  },
  {
   "cell_type": "code",
   "execution_count": null,
   "metadata": {},
   "outputs": [],
   "source": [
    "# einfache Funktion die gar nichts macht.\n",
    "def foo():\n",
    "    pass"
   ]
  },
  {
   "cell_type": "code",
   "execution_count": null,
   "metadata": {},
   "outputs": [],
   "source": [
    "import math\n",
    "\n",
    "def quadratic_roots(a, b, c):\n",
    "    disc = b**2-4*a*c\n",
    "    if disc < 0:\n",
    "        return None\n",
    "    else:\n",
    "        return (-b+math.sqrt(disc))/(2*a), (-b-math.sqrt(disc))/(2*a)"
   ]
  },
  {
   "cell_type": "code",
   "execution_count": null,
   "metadata": {},
   "outputs": [],
   "source": [
    "quadratic_roots(1, -5, 6) # eq = (x-3)(x-2) = x^2 -5x + 6"
   ]
  },
  {
   "cell_type": "code",
   "execution_count": null,
   "metadata": {},
   "outputs": [],
   "source": [
    "quadratic_roots(a=1, b=-5, c=6)"
   ]
  },
  {
   "cell_type": "code",
   "execution_count": null,
   "metadata": {},
   "outputs": [],
   "source": [
    "quadratic_roots(c=6, a=1, b=-5)"
   ]
  },
  {
   "cell_type": "code",
   "execution_count": null,
   "metadata": {},
   "outputs": [],
   "source": [
    "def create_character(name, race, hitpoints, ability):\n",
    "    print('Name:', name)\n",
    "    print('Race:', race)\n",
    "    print('Hitpoints:', hitpoints)\n",
    "    print('Ability:', ability)"
   ]
  },
  {
   "cell_type": "code",
   "execution_count": null,
   "metadata": {},
   "outputs": [],
   "source": [
    "create_character('Legolas', 'Elf', 100, 'Archery')"
   ]
  },
  {
   "cell_type": "code",
   "execution_count": null,
   "metadata": {},
   "outputs": [],
   "source": [
    "def create_character(name, race='Human', hitpoints=100, ability=None):\n",
    "    print('Name:', name)\n",
    "    print('Race:', race)\n",
    "    print('Hitpoints:', hitpoints)\n",
    "    if ability:\n",
    "        print('Ability:', ability)"
   ]
  },
  {
   "cell_type": "code",
   "execution_count": null,
   "metadata": {},
   "outputs": [],
   "source": [
    "create_character('Jonas')"
   ]
  },
  {
   "cell_type": "code",
   "execution_count": null,
   "metadata": {},
   "outputs": [],
   "source": [
    "def create_character(name, race='Human', hitpoints=100, abilities=()):\n",
    "    print('Name:', name)\n",
    "    print('Race:', race)\n",
    "    print('Hitpoints:', hitpoints)\n",
    "    if abilities:\n",
    "        print('Abilities:')\n",
    "        for ability in abilities:\n",
    "            print('  -', ability)"
   ]
  },
  {
   "cell_type": "code",
   "execution_count": null,
   "metadata": {},
   "outputs": [],
   "source": [
    "create_character('Gimli', race='Dwarf')"
   ]
  },
  {
   "cell_type": "code",
   "execution_count": null,
   "metadata": {},
   "outputs": [],
   "source": [
    "create_character('Gandalf', hitpoints=1000)"
   ]
  },
  {
   "cell_type": "code",
   "execution_count": null,
   "metadata": {},
   "outputs": [],
   "source": [
    "create_character('Aragorn', abilities=('Swording', 'Healing'))"
   ]
  },
  {
   "cell_type": "code",
   "execution_count": null,
   "metadata": {},
   "outputs": [],
   "source": [
    "def create_character(name, *abilities, race='Human', hitpoints=100):\n",
    "    print('Name:', name)\n",
    "    print('Race:', race)\n",
    "    print('Hitpoints:', hitpoints)\n",
    "    if abilities:\n",
    "        print('Abilities:')\n",
    "        for ability in abilities:\n",
    "            print('  -', ability)"
   ]
  },
  {
   "cell_type": "code",
   "execution_count": null,
   "metadata": {},
   "outputs": [],
   "source": [
    "create_character('Jonas')"
   ]
  },
  {
   "cell_type": "code",
   "execution_count": null,
   "metadata": {},
   "outputs": [],
   "source": [
    "create_character('Jonas', 'Coding', 'Teaching', 'Sleeping', hitpoints=25, )"
   ]
  },
  {
   "cell_type": "markdown",
   "metadata": {},
   "source": [
    "## Funktionen als Objekte\n",
    "In Python ist alles ein Objekt. Also können wir auch Funktionen als Objekte verwenden"
   ]
  },
  {
   "cell_type": "code",
   "execution_count": null,
   "metadata": {},
   "outputs": [],
   "source": [
    "def foo():\n",
    "    print(\"foo called\")\n",
    "\n",
    "def bar():\n",
    "    print(\"bar called\")\n",
    "\n",
    "def general(f):\n",
    "    f()\n",
    "\n",
    "general(foo)\n",
    "general(bar)"
   ]
  },
  {
   "cell_type": "markdown",
   "metadata": {},
   "source": [
    "## Objektorientierung\n",
    "\n",
    "Wir definieren erst einmal eine leere Klasse/Objekt `Person` und erstellen eine Instanz dieser Klasse:"
   ]
  },
  {
   "cell_type": "code",
   "execution_count": null,
   "metadata": {},
   "outputs": [],
   "source": [
    "# Definition der Klasse Person\n",
    "class Person:\n",
    "    pass\n",
    "\n",
    "myPerson = Person()\n",
    "\n",
    "print(myPerson)\n",
    "type(myPerson)"
   ]
  },
  {
   "cell_type": "markdown",
   "metadata": {},
   "source": [
    "Natürlich können Klassen in Python auch Attribute haben. Geben wir unserer Person mal einen Namen, ein Alter, ein Gewicht und eine Größe."
   ]
  },
  {
   "cell_type": "code",
   "execution_count": null,
   "metadata": {},
   "outputs": [],
   "source": [
    "class Person:\n",
    "    def __init__(self, pName, pAge, pWeight, pHeight):\n",
    "        self.name = pName\n",
    "        self.age = pAge\n",
    "        self.weight = pWeight\n",
    "        self.height = pHeight\n",
    "\n",
    "myPerson2 = Person(\"Peter\", 20, 75, 185)\n",
    "\n",
    "type(myPerson2)\n",
    "print(f'Name: {myPerson2.name}, Alter: {myPerson2.age}')"
   ]
  },
  {
   "cell_type": "markdown",
   "metadata": {},
   "source": [
    "Das ist schon ganz gut, aber wir wollen auf den Objekten natürlich noch Methoden anwenden. Lassen Sie uns Methode `greeting` und eine Methode zur Berechnung des Body-Mass-Index `calculate_bmi` schreiben.\n",
    "\n",
    "In Python muss der Methode immer auch das Objekt selbst `self` mitübergeben werden. Sonst können die Methoden nicht auf die Attribute des Objektes zugreifen."
   ]
  },
  {
   "cell_type": "code",
   "execution_count": null,
   "metadata": {},
   "outputs": [],
   "source": [
    "class Person:\n",
    "    def __init__(self, pName, pAge, pWeight, pHeight):\n",
    "        self.name = pName\n",
    "        self.age = pAge\n",
    "        self.weight = pWeight\n",
    "        self.height = pHeight\n",
    "\n",
    "    def greeting(self):\n",
    "        return(f\"Hi, my name is: {self.name} and i'm {self.age} years old.\")\n",
    "\n",
    "    def calculate_bmi(self):\n",
    "        return self.weight / (self.height*self.height)"
   ]
  },
  {
   "cell_type": "code",
   "execution_count": null,
   "metadata": {},
   "outputs": [],
   "source": [
    "myPerson3 = Person(\"Jonas\", 41, 84, 1.85)\n",
    "print(myPerson3.greeting())\n",
    "print(myPerson3.calculate_bmi())"
   ]
  },
  {
   "cell_type": "markdown",
   "metadata": {},
   "source": [
    "## Vererbung\n",
    "\n",
    "Jetzt erstellen wir eine Klasse `Student` die von der Klasse `Person` abgeleitet ist."
   ]
  },
  {
   "cell_type": "code",
   "execution_count": null,
   "metadata": {},
   "outputs": [],
   "source": [
    "class Student(Person):\n",
    "    def __init__(self, name, pAge, pWeight, pHeight, pMatrikelnummer):\n",
    "        super().__init__(name, pAge, pWeight, pHeight)\n",
    "        self.matrikelnummer = pMatrikelnummer\n",
    "    \n",
    "    def greeting(self): # wir überschreiben die Methode greeting aus der Person-Klasse\n",
    "        print(f\"Hallo, mein Name ist {self.name}, ich bin {self.age} Jahre alt und meine Matrikelnummer ist {self.matrikelnummer}.\")\n"
   ]
  },
  {
   "cell_type": "code",
   "execution_count": null,
   "metadata": {},
   "outputs": [],
   "source": [
    "myStudent1 = Student(\"Petra\", 19, 55, 1.75, 1234)\n",
    "myStudent1.greeting()"
   ]
  },
  {
   "cell_type": "markdown",
   "metadata": {},
   "source": [
    "Und wir erben die Methoden aus der Klasse `Person`."
   ]
  },
  {
   "cell_type": "code",
   "execution_count": null,
   "metadata": {},
   "outputs": [],
   "source": [
    "myStudent1.calculate_bmi()"
   ]
  },
  {
   "cell_type": "markdown",
   "metadata": {},
   "source": [
    "## Spezielle Klassenmethoden\n",
    "\n",
    "Wir haben schon gesehen, dass es in Python spezielle Methoden auf Klassen gibt. Im Prinzip sollte jede Klasse folgende Standard-Methoden implementiert haben:\n",
    "\n",
    "```\n",
    "__init__() -> Konstruktor\n",
    "__repr__() -> eine (technische) String-Representation des Objektes\n",
    "__str__() -> eine (menschenfreundliche) String-Representation des Objektes\n",
    "__eq__() -> dann können zwei Objekte der Klasse mit \"==\" auf Gleichheit überprüft werden\n",
    "__hash__() -> liefert für jede Instanz einen eindeutigen Hash-Wert zurück\n",
    "```\n",
    "\n",
    "Weitere Standardmethoden (die für Personen keinen Sinn ergeben) sind:\n",
    "```\n",
    "__add__() -> zwei Objekte mit \"+\" addieren/konkatinieren\n",
    "__subtract__() -> zwei Objekte mit \"-\" subtrahieren\n",
    "__getitem__(idx) -> Index-Zugriff liefert den Wert an idx zurück\n",
    "__setitem__(idx, value) -> setzt das Element am Index idx auf den Wert value\n",
    "__len__() -> liefert die Länge des Objektes zurück\n",
    "__del__() -> löscht die Instanz des Objektes\n",
    "__iter__() -> zum Iterieren über das Objekt\n",
    "```\n",
    "Wir implementieren die ersten:"
   ]
  },
  {
   "cell_type": "code",
   "execution_count": null,
   "metadata": {},
   "outputs": [],
   "source": [
    "class Person:\n",
    "    def __init__(self, pName, pAge, pWeight, pHeight):\n",
    "        self.name = pName\n",
    "        self.age = pAge\n",
    "        self.weight = pWeight\n",
    "        self.height = pHeight\n",
    "\n",
    "    def greeting(self):\n",
    "        return f\"Hi, my name is {self.name} and I'm {self.age} years old.\"\n",
    "\n",
    "    def calculate_bmi(self):\n",
    "        return self.weight / (self.height * self.height)\n",
    "    \n",
    "    def __repr__(self):\n",
    "        return f\"Person(name='{self.name}', age={self.age}, weight={self.weight}, height={self.height})\"\n",
    "    \n",
    "    def __str__(self):\n",
    "        return f\"{self.name}, {self.age} Jahre alt, Gewicht: {self.weight} kg, Größe: {self.height} m\"\n",
    "    \n",
    "    def __eq__(self, other):\n",
    "        if isinstance(other, Person):\n",
    "            return (self.name == other.name and\n",
    "                    self.age == other.age and\n",
    "                    self.weight == other.weight and\n",
    "                    self.height == other.height)\n",
    "        return False\n",
    "    \n",
    "    def __hash__(self):\n",
    "        return hash((self.name, self.age, self.weight, self.height))"
   ]
  },
  {
   "cell_type": "code",
   "execution_count": null,
   "metadata": {},
   "outputs": [],
   "source": [
    "# Beispiel für die Verwendung der Klasse Person\n",
    "person1 = Person(\"Alice\", 30, 65, 1.70)\n",
    "person2 = Person(\"Alice\", 30, 65, 1.70)\n",
    "person3 = Person(\"Bob\", 25, 70, 1.75)\n",
    "\n",
    "print(repr(person1))\n",
    "print(str(person1))\n",
    "print(person1.greeting())\n",
    "print(f\"BMI von {person1.name}: {person1.calculate_bmi():.2f}\")\n",
    "print(person1 == person2)  # True\n",
    "print(person1 == person3)  # False\n",
    "\n",
    "person_set = {person1, person2, person3}\n",
    "print(person_set)"
   ]
  },
  {
   "cell_type": "markdown",
   "metadata": {},
   "source": [
    "## Aufgabe 1 (Formen)\n",
    "\n",
    "Erstellen Sie eine Klasse `shape`, die als Attribut den Namen der Form speichert und eine Methode `area` besitzt, welche den String \"not yet implemented\" zurückliefert.\n",
    "Implementieren Sie auch die Funktionen `__repr__()` und `__str__()`."
   ]
  },
  {
   "cell_type": "code",
   "execution_count": null,
   "metadata": {},
   "outputs": [],
   "source": [
    "class Shape:\n",
    "    def __init__(self, name):\n",
    "        self.name = name  # Instanzvariable\n",
    "    \n",
    "    def area(self):\n",
    "        return(\"Not implemented\")\n",
    "\n",
    "    def __repr__(self):\n",
    "        return f\"{self.__class__.__name__}('{self.name}')\"\n",
    "    \n",
    "    def __str__(self):\n",
    "        return f\"{self.name.upper()}\"\n"
   ]
  },
  {
   "cell_type": "markdown",
   "metadata": {},
   "source": [
    "**Circle**\n",
    "\n",
    "Erstellen Sie Unterklasse `Circle`, die von `Shape` erbt. Implementiere den Konstruktor, welcher den Namen der Form (Shape) auf \"Circle\" setzt und den Radius speichert. Überschreiben Sie die Methode `area`, um die Fläche des Kreises zu berechnen. Implementieren Sie auch eine Methode `__eq__()` um zwei Kreise miteinander vergleichen zu können. \n",
    "\n",
    "Hinweis: `math.pi`liefert den Wert von Pi."
   ]
  },
  {
   "cell_type": "code",
   "execution_count": null,
   "metadata": {},
   "outputs": [],
   "source": [
    "import math\n",
    "\n",
    "class Circle(Shape):\n",
    "    def __init__(self, radius):\n",
    "        super().__init__(\"Circle\")\n",
    "        self.radius = radius\n",
    "    \n",
    "    def area(self):\n",
    "        return math.pi * self.radius ** 2\n",
    "\n",
    "    def __eq__(self, otherCircle):\n",
    "        if isinstance(otherCircle, Circle):\n",
    "            return self.radius == otherCircle.radius\n",
    "        else:\n",
    "            return False"
   ]
  },
  {
   "cell_type": "code",
   "execution_count": null,
   "metadata": {},
   "outputs": [],
   "source": [
    "# Beispiel:\n",
    "circle = Circle(5)\n",
    "print(circle.name)  # Ausgabe: Circle\n",
    "print(circle.area())  # Ausgabe: 78.53981633974483\n",
    "circle2 = Circle(6)\n",
    "circle3 = Circle(5)\n",
    "print(circle == circle2)\n",
    "print(circle == circle3)"
   ]
  },
  {
   "cell_type": "markdown",
   "metadata": {},
   "source": [
    "**Rectangle**\n",
    "\n",
    "Erstellen Sie eine Unterklasse Rectangle, die von Shape erbt. Implementieren Sie den Konstruktor, der den Namen setzt und die Breite und Höhe speichert. Überschreibe die Methode area, um die Fläche des Rechtecks zu berechnen"
   ]
  },
  {
   "cell_type": "code",
   "execution_count": null,
   "metadata": {},
   "outputs": [],
   "source": [
    "class Rectangle(Shape):\n",
    "    def __init__(self, width, height):\n",
    "        super().__init__(\"Rectangle\")\n",
    "        self.width = width\n",
    "        self.height = height\n",
    "    \n",
    "    def area(self):\n",
    "        return self.width * self.height"
   ]
  },
  {
   "cell_type": "code",
   "execution_count": null,
   "metadata": {},
   "outputs": [],
   "source": [
    "# Beispiel:\n",
    "rectangle = Rectangle(3, 5)\n",
    "print(rectangle.name)  # Ausgabe: Rectangle\n",
    "print(rectangle.area())  # Ausgabe: 15\n",
    "print(repr(rectangle))  # Ausgabe: Rectangle('Rectangle')\n",
    "print(str(rectangle))   # Ausgabe: RECTANGLE"
   ]
  },
  {
   "cell_type": "markdown",
   "metadata": {},
   "source": [
    "**Square**\n",
    "\n",
    "Erstellen Sie eine Unterklasse `Square`, die von `Rectangle` erbt. Implementieren Sie den Konstruktor, um die Seitenlänge und den Namen zu speichern, und überschreiben Sie die Methode `area`, um die Fläche des Quadrats zu berechnen. Erstellen Sie auch eine Methode `__eq__()` um zwei Quadrate auf Gleichheit zu testen."
   ]
  },
  {
   "cell_type": "code",
   "execution_count": null,
   "metadata": {},
   "outputs": [],
   "source": [
    "class Square(Rectangle):\n",
    "    def __init__(self, side_length):\n",
    "        super().__init__(width=side_length, height=side_length)\n",
    "        self.name = \"Square\"\n",
    "\n",
    "    def __eq__(self, otherSquare):\n",
    "        if isinstance(otherSquare, Square):\n",
    "            return self.width == otherSquare.width\n",
    "        else:\n",
    "            return False"
   ]
  },
  {
   "cell_type": "code",
   "execution_count": null,
   "metadata": {},
   "outputs": [],
   "source": [
    "# Beispiel:\n",
    "square = Square(4)\n",
    "print(square.name)  # Ausgabe: Square\n",
    "print(square.area())  # Ausgabe: 16\n",
    "\n",
    "print(square == Square(3))\n",
    "print(square == Square(4))"
   ]
  },
  {
   "cell_type": "markdown",
   "metadata": {},
   "source": [
    "# Funktionale Programmierung\n",
    "\n",
    "Funktionale Programmierung ist ein Paradigma, das sich auf das Berechnen von Werten mithilfe von Funktionen konzentriert. In Python gibt es viele eingebaute Funktionen und Konzepte, die sich gut für die funktionale Programmierung eignen, wie map(), filter(), reduce(), List Comprehensions, und Generatoren.\n",
    "\n",
    "Wir werden uns anonyme Funktionen (sogenannte Lambda-Funktionen), List Comprehensions (kennen wir schon) und Generatoren anschauen."
   ]
  },
  {
   "cell_type": "markdown",
   "metadata": {},
   "source": [
    "# Lambda Funktionen\n",
    "\n",
    "Lambda-Funktionen sind kleine anonyme Funktionen, die besonders nützlich sind, wenn man eine einfache Funktion nur einmal verwenden möchte."
   ]
  },
  {
   "cell_type": "code",
   "execution_count": null,
   "metadata": {},
   "outputs": [],
   "source": [
    "# Beispiel\n",
    "addiere = lambda x, y: x + y\n",
    "print(addiere(3, 5))\n",
    "\n",
    "# Lambda-Funktion zum Sortieren\n",
    "student_grades = {'Alice':90, 'Bob' : 70, 'Peter' : 65}\n",
    "print(sorted(student_grades.items(), key=lambda x:x[1]))\n",
    "\n",
    "woerter = [\"Banane\", \"Apfel\", \"Kirsche\", \"Mango\", \"Ananas\"]\n",
    "sortierte_woerter = sorted(woerter, key=lambda wort: len(wort))\n",
    "print(sortierte_woerter)"
   ]
  },
  {
   "cell_type": "markdown",
   "metadata": {},
   "source": [
    "## List Comprehensions\n",
    "\n",
    "List Comprehensions sind eine kompakte Art und Weise, Listen zu erstellen."
   ]
  },
  {
   "cell_type": "code",
   "execution_count": null,
   "metadata": {},
   "outputs": [],
   "source": [
    "# List Comprehension für Quadrate\n",
    "quadrate = [x ** 2 for x in range(1, 6)]\n",
    "print(f\"Quadrate: {quadrate}\")\n",
    "\n",
    "# List Comprehension mit Bedingung\n",
    "gerade_quadrate = [x ** 2 for x in range(1, 6) if x % 2 == 0]\n",
    "print(f\"Gerade Quadrate: {gerade_quadrate}\")\n"
   ]
  },
  {
   "cell_type": "markdown",
   "metadata": {},
   "source": [
    "## Generatoren\n",
    "\n",
    "Generatoren sind spezielle Funktionen, die Werte nach Bedarf liefern. Sie sind besonders nützlich, wenn man mit großen Datenmengen arbeitest."
   ]
  },
  {
   "cell_type": "code",
   "execution_count": null,
   "metadata": {},
   "outputs": [],
   "source": [
    "l = [2*x for x in range(10)]\n",
    "g = (2*x for x in range(10))"
   ]
  },
  {
   "cell_type": "code",
   "execution_count": null,
   "metadata": {},
   "outputs": [],
   "source": [
    "type(l), type(g)"
   ]
  },
  {
   "cell_type": "code",
   "execution_count": null,
   "metadata": {},
   "outputs": [],
   "source": [
    "for x in l:\n",
    "    print(x)"
   ]
  },
  {
   "cell_type": "code",
   "execution_count": null,
   "metadata": {},
   "outputs": [],
   "source": [
    "for x in g:\n",
    "    print(x)"
   ]
  },
  {
   "cell_type": "markdown",
   "metadata": {},
   "source": [
    "Meistens ist ein Generator deutlich performanter als eine Liste."
   ]
  },
  {
   "cell_type": "code",
   "execution_count": null,
   "metadata": {},
   "outputs": [],
   "source": [
    "%timeit -n 1000 [2*x for x in range(10_000)]"
   ]
  },
  {
   "cell_type": "code",
   "execution_count": null,
   "metadata": {},
   "outputs": [],
   "source": [
    "%timeit -n 1000 (2*x for x in range(10_000))"
   ]
  },
  {
   "cell_type": "markdown",
   "metadata": {},
   "source": [
    "Noch besser: Generatoren benötigen deutlich weniger Speicher als Listen."
   ]
  },
  {
   "cell_type": "code",
   "execution_count": null,
   "metadata": {},
   "outputs": [],
   "source": [
    "import sys\n",
    "nums_squared_list = [i ** 2 for i in range(10000)]\n",
    "print('Used memory list:', sys.getsizeof(nums_squared_list), 'bytes')\n",
    "nums_squared_generator = (i ** 2 for i in range(10000))\n",
    "print('Used memory generator:', sys.getsizeof(nums_squared_generator), 'bytes')"
   ]
  },
  {
   "cell_type": "markdown",
   "metadata": {},
   "source": [
    "**???** 85176 bytes to 208 bytes? Sehr sehr viel weniger Speicher"
   ]
  },
  {
   "cell_type": "code",
   "execution_count": null,
   "metadata": {},
   "outputs": [],
   "source": [
    "g = (2*x for x in range(10_000))"
   ]
  },
  {
   "cell_type": "code",
   "execution_count": null,
   "metadata": {},
   "outputs": [],
   "source": [
    "g[100]"
   ]
  },
  {
   "cell_type": "code",
   "execution_count": null,
   "metadata": {},
   "outputs": [],
   "source": [
    "g[:100]"
   ]
  },
  {
   "cell_type": "code",
   "execution_count": null,
   "metadata": {},
   "outputs": [],
   "source": [
    "sum(g)"
   ]
  },
  {
   "cell_type": "markdown",
   "metadata": {},
   "source": [
    "Generatoren \"brauchen sich auf\"."
   ]
  },
  {
   "cell_type": "code",
   "execution_count": null,
   "metadata": {},
   "outputs": [],
   "source": [
    "sum(g)"
   ]
  },
  {
   "cell_type": "markdown",
   "metadata": {},
   "source": [
    "Ein *Generator-Ausdruck* ähnelt syntaktisch einer Liste und ist insofern ähnlich, als er zu einer iterierbaren Folge von Werten ausgewertet wird. Ein Generator stellt jedoch keine vollständige Sammlung von Werten dar; stattdessen werden Werte nur dann zurückgegeben, wenn sie durch die Iterations-API (d.h. `next`) benötigt werden --- wir bezeichnen dies als *lazy evaluation*. \n",
    "\n",
    "Dies macht einen Generator effizienter als eine Liste (da wir nicht alle Werte in der Sequenz aufbewahren müssen), aber Generatoren können Listen nicht in allen Szenarien ersetzen (z.B. wenn wir in der Sequenz herumspringen oder Werte erneut aufrufen müssen)."
   ]
  },
  {
   "cell_type": "markdown",
   "metadata": {},
   "source": [
    "# Aufgaben\n",
    "\n",
    "**Aufgabe 1:** Lambda-Funktion zum Berechnen von Potenzen\n",
    "\n",
    "Schreibe eine Lambda-Funktion, die zwei Zahlen nimmt und die erste Zahl zur Potenz der zweiten Zahl berechnet."
   ]
  },
  {
   "cell_type": "code",
   "execution_count": null,
   "metadata": {},
   "outputs": [],
   "source": [
    "# Aufgabe 1: Lambda-Funktion zum Berechnen von Potenzen\n",
    "power = lambda x, y: x ** y\n",
    "print(power(2, 3))  # Ausgabe: 8\n",
    "print(power(5, 2))  # Ausgabe: 25"
   ]
  },
  {
   "cell_type": "markdown",
   "metadata": {},
   "source": [
    "**Aufgabe 2:** Verwende eine Lambda-Funktion und eine List Comprehension, um nur die Wörter aus einer Liste zu extrahieren, die mit einem bestimmten Buchstaben beginnen.\n",
    "*Hinweis:* die Funktion `startswith(zeichenfolge)` prüft ob ein String mit einer bestimmten Zeichenfolge beginnt."
   ]
  },
  {
   "cell_type": "code",
   "execution_count": null,
   "metadata": {},
   "outputs": [],
   "source": [
    "# Gegeben:\n",
    "woerter = [\"Apfel\", \"Banane\", \"Ananas\", \"Birne\", \"Avocado\"]\n",
    "\n",
    "# Verwende eine Lambda-Funktion und eine List Comprehension, um nur die Wörter zu extrahieren, die mit 'A' beginnen.\n",
    "anfangs_a = [wort for wort in woerter if (lambda x: x.startswith('A'))(wort)]\n",
    "print(anfangs_a)  # Ausgabe: ['Apfel', 'Ananas', 'Avocado']\n"
   ]
  },
  {
   "cell_type": "markdown",
   "metadata": {},
   "source": [
    "**Aufgabe 3:** Verwende eine Lambda-Funktion und eine List Comprehension, um die Quadratwurzel von positiven Zahlen aus einer Liste zu berechnen.\n",
    "\n",
    "*Hinweis:* Die Funktion `math.sqrt()`berechnet die Quadratwurzel einer Funktion."
   ]
  },
  {
   "cell_type": "code",
   "execution_count": null,
   "metadata": {},
   "outputs": [],
   "source": [
    "import math\n",
    "\n",
    "# Gegeben:\n",
    "zahlen = [4, -9, 16, -25, 36]\n",
    "\n",
    "# Verwende eine Lambda-Funktion und eine List Comprehension, um die Quadratwurzel von positiven Zahlen zu berechnen.\n",
    "wurzeln = [math.sqrt(x) for x in zahlen if (lambda y: y > 0)(x)]\n",
    "print(wurzeln)  # Ausgabe: [2.0, 4.0, 6.0]\n"
   ]
  }
 ],
 "metadata": {
  "kernelspec": {
   "display_name": "Python 3",
   "language": "python",
   "name": "python3"
  },
  "language_info": {
   "codemirror_mode": {
    "name": "ipython",
    "version": 3
   },
   "file_extension": ".py",
   "mimetype": "text/x-python",
   "name": "python",
   "nbconvert_exporter": "python",
   "pygments_lexer": "ipython3",
   "version": "3.11.9"
  }
 },
 "nbformat": 4,
 "nbformat_minor": 2
}
