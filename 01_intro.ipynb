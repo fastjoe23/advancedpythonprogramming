{
 "cells": [
  {
   "cell_type": "markdown",
   "metadata": {},
   "source": [
    "# Fortgeschrittene Programmierung in Python\n",
    "\n",
    "## Agenda der Vorlesung\n",
    "\n",
    "- Python Crash Course\n",
    "    - Prozessuale Programmierung\n",
    "    - Strings und Basisklassen\n",
    "    - Wiederholung Objektorientierung\n",
    "    - Funktionale Programmierung\n",
    "- Exceptions\n",
    "- Test Driven Development\n",
    "- Generalisierte Iteration\n",
    "- Packages\n",
    "- Externe Bibliotheken (matplotlib, fpdf)\n",
    "- Grafische Benutzeroberflächen\n",
    "- Streams und Dateizugriffe\n",
    "- Parallele Programmierung\n",
    "\n",
    "\n",
    "## Dozent\n",
    "Prof. Dr. Jonas Offtermatt\n",
    "\n",
    "Büro: RB41 , 3.03\n",
    "Sprechstunde nach Vereinbarung\n",
    "\n",
    "Telefon: 0711 / 1849 4540, \n",
    "Email: jonas.offtermatt@dhbw-stuttgart.de\n",
    "\n",
    "## Voraussetzungen\n",
    "Ich gehe davon aus, dass Sie … \n",
    "- eine beliebige Programmiersprache flüssig beherrschen\n",
    "- sowohl objektorientiert, als auch prozedural programmieren können\n",
    "- sich im Entwicklungsprozess auskennen:\n",
    "    - compilation, debugging, testing\n",
    "\n",
    "\n",
    "## Literatur\n",
    "- The Python Tutorial [docs.python.org](https://docs.python.org/3/)\n",
    "- Michael Kofler, \"Python: Der ideale Python-Einstieg für Informatikstudium, Ausbildung und Beruf\" (ISBN: 3836285134)\n",
    "- Johannes Ernesti, Peter Kaiser, \"Python 3: Das umfassende Handbuch\" (ISBN: 3836291290)\n",
    "\n",
    "## Prüfung\n",
    "Die Prüfung findet in Form einer **Klausur** statt.\n",
    "\n",
    "*Inhalt*: alles was in der Vorlesung behandelt wurde.\n",
    "\n",
    "## Typische Vorlesungseinheit\n",
    "Alle Vorlesungen werden in Form von Jupyter Notebooks ([jupyter.org](https://jupyter.org )) bereitgestellt und durchgeführt. Ziel ist es gemeinsam zu Programmieren, wobei es auch zu jeder Einheit Übungsaufgaben geben wird, welche Sie im Rahmen der Vorlesung bearbeiten müssen.\n",
    "\n",
    "Startpunkt für alle Vorlesungseinheiten ist der DHBW eigene Jupyterhub, welchen Sie in moodle finden.\n"
   ]
  }
 ],
 "metadata": {
  "kernelspec": {
   "display_name": "Python 3",
   "language": "python",
   "name": "python3"
  },
  "language_info": {
   "codemirror_mode": {
    "name": "ipython",
    "version": 3
   },
   "file_extension": ".py",
   "mimetype": "text/x-python",
   "name": "python",
   "nbconvert_exporter": "python",
   "pygments_lexer": "ipython3",
   "version": "3.11.9"
  }
 },
 "nbformat": 4,
 "nbformat_minor": 2
}
