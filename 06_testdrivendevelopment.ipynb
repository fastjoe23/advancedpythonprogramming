{
 "cells": [
  {
   "cell_type": "markdown",
   "metadata": {},
   "source": [
    "# Test-driven Development (TDD)\n",
    "\n",
    "Test-driven Development (TDD) ist ein Entwicklungsansatz, bei dem Tests vor der eigentlichen Implementierung geschrieben werden.\n",
    "pytest ist ein Framework, das weit verbreitet für das Schreiben und Ausführen von Tests in Python verwendet wird.\n",
    "\n",
    "In diesem Notebook werden wir durch die Grundlagen von TDD mit pytest führen."
   ]
  },
  {
   "cell_type": "markdown",
   "metadata": {},
   "source": [
    "# Test -> Code -> Eat -> Repeat\n",
    "<img src=\"./images/TDDSimplyExplained.jpg\" width=\"400\">\n",
    "\n",
    "Das Vorgehen bei TDD ist wie folgt:\n",
    "1. Schreibe einen Test\n",
    "2. Schreibe Code der den Test besteht\n",
    "3. Verbessere den Code\n",
    "4. Beginne wieder bei 1."
   ]
  },
  {
   "cell_type": "markdown",
   "metadata": {},
   "source": [
    "# Tests in Python - Das `assert`-Statement\n",
    "\n",
    "In Python wird das Schlüsselwort `assert` verwendet, um sicherzustellen, dass eine Bedingung wahr ist. Wenn die Bedingung nicht erfüllt ist, löst `assert` eine Ausnahme aus, normalerweise `AssertionError`, und das Programm wird gestoppt."
   ]
  },
  {
   "cell_type": "code",
   "execution_count": null,
   "metadata": {},
   "outputs": [],
   "source": [
    "# Beispiel\n",
    "assert ( 2 == 3)"
   ]
  },
  {
   "cell_type": "markdown",
   "metadata": {},
   "source": [
    "Damit können wir Tests für Funktionen / Objekte /etc. definieren. Nur wenn die Implementierung alle `assert` Statements korrekt erfüllt, ist unser Code lauffähig.\n",
    "\n",
    "Beispiel: wir wollen eine Funktion `addiere(x,y)` implementieren, welche zwei übergebene Zahlen addiert. \n",
    "Definieren wir erst einmal die Test-Statements:"
   ]
  },
  {
   "cell_type": "code",
   "execution_count": null,
   "metadata": {},
   "outputs": [],
   "source": [
    "assert addiere(1,1) == 2\n",
    "assert addiere(2,3) == 5\n",
    "assert addiere(1,-1) == 0\n",
    "assert addiere(-2,-3) == -5"
   ]
  },
  {
   "cell_type": "markdown",
   "metadata": {},
   "source": [
    "Diese Code-Zelle lässt sich natürlich nicht ausführen, weil wir die Funktion `addiere` noch nicht definiert haben. Machen wir das:"
   ]
  },
  {
   "cell_type": "code",
   "execution_count": null,
   "metadata": {},
   "outputs": [],
   "source": [
    "def addiere(x,y):\n",
    "    pass"
   ]
  },
  {
   "cell_type": "markdown",
   "metadata": {},
   "source": [
    "Jetzt können wir die Tests erneut ausführen:"
   ]
  },
  {
   "cell_type": "code",
   "execution_count": null,
   "metadata": {},
   "outputs": [],
   "source": [
    "assert addiere(1,1) == 2\n",
    "assert addiere(2,3) == 5\n",
    "assert addiere(1,-1) == 0\n",
    "assert addiere(-2,-3) == -5"
   ]
  },
  {
   "cell_type": "markdown",
   "metadata": {},
   "source": [
    "Und erhalten einen Assertion-Error. Das ist besser als vorher. Aber lassen Sie uns die Funktion lieber kurz korrekt implementieren:"
   ]
  },
  {
   "cell_type": "code",
   "execution_count": null,
   "metadata": {},
   "outputs": [],
   "source": [
    "addiere = lambda x,y: x+y"
   ]
  },
  {
   "cell_type": "markdown",
   "metadata": {},
   "source": [
    "Und wieder die Tests ausführen:"
   ]
  },
  {
   "cell_type": "code",
   "execution_count": null,
   "metadata": {},
   "outputs": [],
   "source": [
    "assert addiere(1,1) == 2\n",
    "assert addiere(2,3) == 5\n",
    "assert addiere(1,-1) == 0\n",
    "assert addiere(-2,-3) == -5"
   ]
  },
  {
   "cell_type": "markdown",
   "metadata": {},
   "source": [
    "Jetzt sollte kein Fehler mehr kommen. Unsere Implementierung ist also korrekt.\n",
    "\n",
    "Bisschen schade, dass wir keine Erfolgsmeldung bekommen. Glücklicherweise fanden das andere auch. Deswegen gibt es:"
   ]
  },
  {
   "cell_type": "markdown",
   "metadata": {},
   "source": [
    "# Pytest\n",
    "\n",
    "### Was ist pytest?\n",
    "\n",
    "pytest ist ein beliebtes Framework zum Testen von Python-Code. Es wird verwendet, um Unit-Tests und funktionale Tests zu schreiben und auszuführen. pytest bietet eine einfache und intuitive Syntax, die das Schreiben von Tests erleichtert, sowie viele erweiterte Funktionen, die es zu einem leistungsfähigen Werkzeug für Testautomatisierung machen.\n",
    "\n",
    "### Warum pytest verwenden?\n",
    "\n",
    "- **Einfache Syntax**: pytest-Tests sind einfach zu schreiben und zu lesen.\n",
    "- **Automatische Erkennung von Tests**: pytest erkennt automatisch alle Testdateien und Testfunktionen im Projekt.\n",
    "- **Detaillierte Fehlermeldungen**: pytest bietet informative Fehlermeldungen, die das Debuggen erleichtern.\n",
    "- **Erweiterbarkeit**: pytest kann durch Plugins erweitert werden, um zusätzliche Funktionen bereitzustellen.\n",
    "\n",
    "### Wie funktioniert pytest?\n",
    "\n",
    "1. **Schreiben von Tests**:\n",
    "   - Tests werden als Funktionen definiert, die mit `test_` beginnen.\n",
    "   - Assertions (`assert`) werden verwendet, um zu überprüfen, ob der getestete Code korrekt funktioniert.\n",
    "\n",
    "2. **Ausführen von Tests**:\n",
    "   - pytest kann ausgeführt werden, indem man den Befehl `pytest` im Terminal eingibt.\n",
    "   - pytest sucht nach allen Dateien, die mit `test_` beginnen oder auf `_test.py` enden, und führt die darin enthaltenen Testfunktionen aus.\n",
    "\n",
    "### Beispiel\n",
    "\n",
    "```python\n",
    "# Beispielcode: Eine Funktion, die zwei Zahlen addiert\n",
    "def add_numbers(a, b):\n",
    "    return a + b\n",
    "\n",
    "# Test für die Funktion add_numbers\n",
    "def test_add_numbers():\n",
    "    assert add_numbers(1, 2) == 3\n",
    "    assert add_numbers(-1, 1) == 0\n",
    "    assert add_numbers(0, 0) == 0\n",
    "    assert add_numbers(-1, -1) == -2"
   ]
  },
  {
   "cell_type": "markdown",
   "metadata": {},
   "source": [
    "Wir speichern den obigen Code in einer eigenen Textdatei mit Endung .py (nicht in einem ipynb-Notebook). Und nutzen jetzt ein nettes kleines Notebook-Feature:"
   ]
  },
  {
   "cell_type": "code",
   "execution_count": null,
   "metadata": {},
   "outputs": [],
   "source": [
    "!pytest -v ./06a_simpleexample.py"
   ]
  },
  {
   "cell_type": "markdown",
   "metadata": {},
   "source": [
    "Bei komplizierteren Tests ist es eine gute Idee, die Tests in sinnvolle Funktionseinheiten zu unterteilen, so dass wir, wenn etwas nicht funktioniert, das Problem leicht finden und beheben können. pytest ermöglicht es uns, mehrere Testfunktionen mit unterschiedlichen Namen zu erstellen, die angeben, was sie testen sollen.  \n",
    "\n",
    "Außerdem ist es sinnvoll die zu testende Funktion und die eigentlichen Tests in getrennten Dateien zu schreiben."
   ]
  },
  {
   "cell_type": "markdown",
   "metadata": {},
   "source": [
    "## Beispiel-Funktion: classify_number\n",
    "\n",
    "Die Funktion `classify_number` klassifiziert eine gegebene Zahl als negativ, positiv oder null und unterscheidet dabei auch zwischen geraden und ungeraden Zahlen. Hier ist die Implementierung der Funktion:\n",
    "\n",
    "```python\n",
    "def classify_number(num):\n",
    "    if num < 0:\n",
    "        if num % 2 == 0:\n",
    "            return \"Negative even\"\n",
    "        else:\n",
    "            return \"Negative odd\"\n",
    "    elif num > 0:\n",
    "        if num % 2 == 0:\n",
    "            return \"Positive even\"\n",
    "        else:\n",
    "            return \"Positive odd\"\n",
    "    else:\n",
    "        return \"Zero\"\n",
    "```` \n",
    "\n",
    "Wir kopieren den Code in eine eigene Datei namens `classify_number.py`."
   ]
  },
  {
   "cell_type": "markdown",
   "metadata": {},
   "source": [
    "Jetzt erstellen wir noch eine Datei `test_classify_number.py` und ergänzen in diese folgende Testfälle:\n",
    "\n",
    "```python\n",
    "from classify_number import classify_number\n",
    "\n",
    "def test_classify_number_even():\n",
    "    assert classify_number(-4) == \"Negative even\"   # Testet negative gerade Zahl\n",
    "    assert classify_number(8) == \"Positive even\"    # Testet positive gerade Zahl\n",
    "    assert classify_number(2) == \"Positive even\"    # Testet positive gerade Zahl\n",
    "    assert classify_number(-2) == \"Negative even\"\n",
    "    \n",
    "\n",
    "def test_classify_number_odd():    \n",
    "    assert classify_number(-3) == \"Negative odd\"    # Testet negative ungerade Zahl\n",
    "    assert classify_number(3) == \"Positive odd\"     # Testet positive ungerade Zahl\n",
    "    assert classify_number(-1) == \"Negative odd\"    # Testet negative ungerade Zahl\n",
    "    assert classify_number(1) == \"Positive odd\"     # Testet positive ungerade Zahl\n",
    "\n",
    "def test_classify_number_zero():    \n",
    "    assert classify_number(0) == \"Zero\"             # Testet null"
   ]
  },
  {
   "cell_type": "markdown",
   "metadata": {},
   "source": [
    "Jetzt können wir wieder `pytest` starten:"
   ]
  },
  {
   "cell_type": "code",
   "execution_count": null,
   "metadata": {},
   "outputs": [],
   "source": [
    "!pytest -v test_classify_number.py"
   ]
  },
  {
   "cell_type": "markdown",
   "metadata": {},
   "source": [
    "# Aufgabe 1\n",
    "\n",
    "1. Kopieren Sie folgende Testfälle (inklusive der import-Anweisung) in eine Datei `test_CheckMail.py`\n",
    "\n",
    "```python\n",
    "import CheckMail\n",
    "\n",
    "def test_class_CheckMail():\n",
    "    myMailChecker = CheckMail()\n",
    "    assert isinstance(myMailChecker, CheckMail)\n",
    "\n",
    "def test_class_CheckMail_no_input():\n",
    "    myMailChecker = CheckMail()\n",
    "    assert not myMailChecker.isValidMailAddress(None)\n",
    "    address = \"\"\n",
    "    assert not myMailChecker.isValidMailAddress(address)\n",
    "\n",
    "def test_class_CheckMail_correct_input():\n",
    "    myMailChecker = CheckMail()\n",
    "    assert myMailChecker.isValidMailAddress(\"jonas@test.abc.de\")\n",
    "\n",
    "def test_class_CheckMail_check_for_ats():\n",
    "    myMailChecker = CheckMail()\n",
    "    assert not myMailChecker.isValidMailAddress(\"jonastest.de\")\n",
    "    assert not myMailChecker.isValidMailAddress(\"jon@s@test.de\")\n",
    "\n",
    "def test_class_CheckMail_check_text_before_at():\n",
    "    myMailChecker = CheckMail()\n",
    "    assert not myMailChecker.isValidMailAddress(\"@jonastest.de\")\n",
    "    assert myMailChecker.isValidMailAddress(\"a@test.de\")\n",
    "\n",
    "def test_class_CheckMail_check_for_dot():\n",
    "    myMailChecker = CheckMail()\n",
    "    assert not myMailChecker.isValidMailAddress(\"jonas@testde\")\n",
    "    assert not myMailChecker.isValidMailAddress(\"a@test.e\")\n",
    "```\n",
    "\n",
    "2. Erstellen Sie eine CheckMail.py und implementieren Sie dort eine Funktion `isValidMailAdress(string)`, welche die obigen Testfälle erfüllt. \n",
    "\n",
    "*Hinweis*: Diese Methode prüft ob die übergebene Mailadresse (z.B. name@server.de) gültig ist und zwar anhand folgender Kriterien: \n",
    "- Es muss ein @-Zeichen vorhanden sein, davor muss mindestens ein Zeichen (Name) stehen. \n",
    "- Nach dem @ Zeichen muss irgendwo ein Punkt kommen (zur Abtrennung der Top-Level-Domain). \n",
    "- Zwischen @ und Punkt muss etwas stehen (Server) und nach dem Punkt muss auch noch etwas stehen (mindestens 2 Zeichen für Top-Level-Domain).\n"
   ]
  },
  {
   "cell_type": "code",
   "execution_count": null,
   "metadata": {},
   "outputs": [],
   "source": [
    "# Sie können Ihre Tests hiermit starten:\n",
    "!pytest -v test_CheckMail.py"
   ]
  },
  {
   "cell_type": "markdown",
   "metadata": {},
   "source": [
    "# Aufgabe 2\n",
    "\n",
    "Nun einmal anders herum. \n",
    "\n",
    "1. Sie finden folgende Funktion in der Datei `cocktails.py`:\n",
    "```python\n",
    "def bestimme_cocktail_typ(basis_alkohol):\n",
    "    basis_alkohol = basis_alkohol.lower()\n",
    "    if basis_alkohol == \"rum\":\n",
    "        return \"Mai Tai\"\n",
    "    elif basis_alkohol == \"wodka\":\n",
    "        return \"Moscow Mule\"\n",
    "    elif basis_alkohol == \"gin\":\n",
    "        return \"Gin Tonic\"\n",
    "    elif basis_alkohol == \"wasser\":\n",
    "        return \"Virgin Margarita\"\n",
    "    else:\n",
    "        return \"Nicht verfügbar\"\n",
    "```\n",
    "\n",
    "2. Ergänzen Sie nun weitere Testfälle (mind. 4) für diese Funktion in der Datei `test_cocktails.py`"
   ]
  },
  {
   "cell_type": "code",
   "execution_count": null,
   "metadata": {},
   "outputs": [],
   "source": [
    "# Sie können Ihre Testfälle mit folgendem Code testen:\n",
    "!pytest -v ./test_cocktails.py"
   ]
  }
 ],
 "metadata": {
  "kernelspec": {
   "display_name": "Python 3",
   "language": "python",
   "name": "python3"
  },
  "language_info": {
   "codemirror_mode": {
    "name": "ipython",
    "version": 3
   },
   "file_extension": ".py",
   "mimetype": "text/x-python",
   "name": "python",
   "nbconvert_exporter": "python",
   "pygments_lexer": "ipython3",
   "version": "3.11.9"
  }
 },
 "nbformat": 4,
 "nbformat_minor": 2
}
