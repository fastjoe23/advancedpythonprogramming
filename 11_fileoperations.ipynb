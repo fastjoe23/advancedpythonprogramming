{
 "cells": [
  {
   "cell_type": "markdown",
   "metadata": {},
   "source": [
    "# Dateizugriff\n",
    "\n",
    "Agenda:\n",
    "- einfacher Dateizugriff\n",
    "- CSV-Reader\n",
    "- GUI mit Dateizugriff"
   ]
  },
  {
   "cell_type": "markdown",
   "metadata": {},
   "source": [
    "## Einfacher Dateizugriff\n",
    "\n",
    "Der einfache Dateizugriff in Python ermöglicht das Öffnen, Lesen und Schreiben von Dateien auf dem Dateisystem. Dies geschieht normalerweise mit der `open()`-Funktion und den zugehörigen Methoden zum Lesen (`read()`), Schreiben (`write()`) und Schließen (`close()`).\n",
    "\n",
    "### Beispiel für einfachen Dateizugriff"
   ]
  },
  {
   "cell_type": "code",
   "execution_count": null,
   "metadata": {},
   "outputs": [],
   "source": [
    "# Datei öffnen und lesen\n",
    "file_path = './example.txt'\n",
    "with open(file_path, 'r') as file:\n",
    "    content = file.read()\n",
    "    print(f'Inhalt der Datei \"{file_path}\":\\n{content}')"
   ]
  },
  {
   "cell_type": "code",
   "execution_count": null,
   "metadata": {},
   "outputs": [],
   "source": [
    "# Datei öffnen und schreiben\n",
    "new_content = 'Neuer Inhalt für die Datei.'\n",
    "with open(file_path, 'w') as file:\n",
    "    file.write(new_content)\n",
    "    print(f'Datei \"{file_path}\" erfolgreich überschrieben.')"
   ]
  },
  {
   "cell_type": "markdown",
   "metadata": {},
   "source": [
    "Mit der Option 'w' wird der Inhalt der Datei überschrieben. Mit 'a' wird appended. Einfach mal ausprobieren."
   ]
  },
  {
   "cell_type": "code",
   "execution_count": null,
   "metadata": {},
   "outputs": [],
   "source": [
    "# Datei wieder öffnen und aktualisierten Inhalt lesen\n",
    "with open(file_path, 'r') as file:\n",
    "    updated_content = file.read()\n",
    "    print(f'Aktualisierter Inhalt der Datei \"{file_path}\":\\n{updated_content}')"
   ]
  },
  {
   "cell_type": "markdown",
   "metadata": {},
   "source": [
    "# CSV-Dateien\n",
    "Einfache Textdateien werden kaum noch verwendet. Eigentlich nur noch zum Logging. Zum Speichern von tabellarischen Daten haben sich csv-Dateien als nützlich erwiesen (csv = comma separated values). Im JavaScript Bereich wird gerne mit json-Dateien gearbeitet (json = java script object notation oder just some other notation). Im guten alten Web 1.0 wurde mit html-Dateien gearbeitet (html = hyper text markup language) und diese wurden weiterentwickelt zu xml-Dateien (xml = X-MarkupLanguage). Echte Anwendungen speichern ihre Daten normalerweise in Datenbanken, statt in flachen Files. Aber das ist Teil einer anderen Vorlesung. Wir werden der Einfachheit halber nur mit csv-Dateien arbeiten.\n",
    "\n",
    "Für den Zugriff auf CSV-Dateien bietet Python die `csv`-Bibliothek, die spezialisierte Funktionen für das Lesen und Schreiben von CSV-Dateien bereitstellt. "
   ]
  },
  {
   "cell_type": "markdown",
   "metadata": {},
   "source": [
    "## Beispiel für die csv-Verarbeitung\n",
    "\n"
   ]
  },
  {
   "cell_type": "code",
   "execution_count": null,
   "metadata": {},
   "outputs": [],
   "source": [
    "import csv\n",
    "\n",
    "# Beispiel: Lesen von Daten aus einer CSV-Datei\n",
    "def read_csv_file(file_path):\n",
    "    with open(file_path, 'r', newline='', encoding='utf-8') as csvfile:\n",
    "        reader = csv.reader(csvfile)\n",
    "        for row in reader:\n",
    "            print(row)\n",
    "\n",
    "# Beispiel: Schreiben von Daten in eine CSV-Datei\n",
    "def write_csv_file(file_path, data):\n",
    "    with open(file_path, 'w', newline='', encoding='utf-8') as csvfile:\n",
    "        writer = csv.writer(csvfile)\n",
    "        writer.writerows(data)\n",
    "\n",
    "# Beispiel für die Verwendung der Funktionen\n",
    "file_path = 'example.csv'\n",
    "\n",
    "# Daten zum Schreiben in die CSV-Datei\n",
    "data_to_write = [\n",
    "    ['Name', 'Alter', 'Stadt'],\n",
    "    ['Peter', '28', 'Berlin'],\n",
    "    ['Lisa', '24', 'München'],\n",
    "    ['Hans', '30', 'Hamburg']\n",
    "]\n",
    "\n",
    "# Schreiben der Daten in die CSV-Datei\n",
    "write_csv_file(file_path, data_to_write)\n",
    "\n",
    "# Lesen der Daten aus der CSV-Datei und Ausgabe\n",
    "print(f'Daten aus der Datei \"{file_path}\":')\n",
    "read_csv_file(file_path)"
   ]
  },
  {
   "cell_type": "markdown",
   "metadata": {},
   "source": [
    "# Aufgabe: Partytagebuch mit GUI und Dateizugriff\n",
    "\n",
    "Erstellen Sie eine interaktive Anwendung mit einer grafischen Benutzeroberfläche (GUI) für ein Partytagebuch. Die Anwendung soll es Benutzern ermöglichen Parties zu verwalten. Es soll möglich sein den Namen der Party, das Datum der Party, eine Liste an mitgegangenen Freunden, den Ort der Party und (optional) ein lustiges Ereignis der Party zu speichern. \n",
    "\n",
    "## Anforderungen\n",
    "\n",
    "- **GUI-Design mit ipywidgets:**\n",
    "  - Verwenden Sie ipywidgets, um eine benutzerfreundliche GUI zu erstellen.\n",
    "  - Die GUI sollte Felder für das Datum der Party (mit einem DatePicker), den Ort der Party, die Gästeliste und ein Feld für ein lustiges Ereignis enthalten.\n",
    "\n",
    "- **Datenverwaltung:**\n",
    "  - Verwenden Sie eine geeignete Datenstruktur (z.B. eine Liste von Dictionaries), um die Partyereignisse mit den folgenden Informationen zu speichern:\n",
    "    - Datum der Party (im Format YYYY-MM-DD)\n",
    "    - Ort der Party\n",
    "    - Gästeliste (eine Liste von Namen)\n",
    "    - Lustiges Ereignis (optional)\n",
    "\n",
    "- **Dateizugriff mit CSV:**\n",
    "  - Implementieren Sie Funktionen zum Speichern und Laden der Partydaten in eine CSV-Datei.\n",
    "  - Beim Programmstart sollten vorhandene Partydaten aus der CSV-Datei geladen werden, falls vorhanden, und beim Speichern sollten die aktuellen Daten in die CSV-Datei geschrieben werden.\n",
    "\n",
    "- **Interaktive Funktionen:**\n",
    "  - Implementieren Sie Funktionen zum Hinzufügen eines neuen Partyereignisses, Bearbeiten eines bestehenden Ereignisses, Löschen eines Ereignisses und Anzeigen aller gespeicherten Ereignisse.\n",
    "\n",
    "- **Benutzerfreundlichkeit und Validierung:**\n",
    "  - Fügen Sie Validierungsfunktionen hinzu, um sicherzustellen, dass alle erforderlichen Felder ausgefüllt sind.\n",
    "  - Bieten Sie Feedback für den Benutzer, z.B. durch Erfolgsmeldungen oder Fehlermeldungen bei ungültigen Eingaben.\n",
    "\n",
    "Bitte strukturieren Sie Ihre Anwendung nach dem Model-View-Controller Prinzip."
   ]
  },
  {
   "cell_type": "code",
   "execution_count": null,
   "metadata": {},
   "outputs": [],
   "source": [
    "# Hier dürfen Sie sich austoben :-)"
   ]
  }
 ],
 "metadata": {
  "kernelspec": {
   "display_name": "Python 3",
   "language": "python",
   "name": "python3"
  },
  "language_info": {
   "codemirror_mode": {
    "name": "ipython",
    "version": 3
   },
   "file_extension": ".py",
   "mimetype": "text/x-python",
   "name": "python",
   "nbconvert_exporter": "python",
   "pygments_lexer": "ipython3",
   "version": "3.11.9"
  }
 },
 "nbformat": 4,
 "nbformat_minor": 2
}
