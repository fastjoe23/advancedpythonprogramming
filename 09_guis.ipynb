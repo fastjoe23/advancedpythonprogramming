{
 "cells": [
  {
   "cell_type": "markdown",
   "metadata": {},
   "source": [
    "# Einführung in GUIs (Graphical User Interface) und Jupyter Widgets\n",
    "\n",
    "Agenda:\n",
    "- Einführung in GUIs\n",
    "- GUI Frameworks\n",
    "- Einführung in IpyWidgets"
   ]
  },
  {
   "cell_type": "markdown",
   "metadata": {},
   "source": [
    "# Als Professor Offtermatt ein kleiner Junge war\n",
    "\n",
    "[Als ich ein kleiner Junge war](https://de.wikipedia.org/wiki/Als_ich_ein_kleiner_Junge_war) sahen unsere Computer-Oberflächen noch so aus:\n",
    "\n",
    "![commandlineinterface](./images/powershell.png)\n",
    "\n",
    "\n",
    "und mein erstes Computerspiel sah so aus:\n",
    "\n",
    "![firstgame](./images/firstgame.png)\n",
    "\n",
    "(Siehe game.py anbei, wobei es Python damals noch gar nicht gab.)"
   ]
  },
  {
   "cell_type": "markdown",
   "metadata": {},
   "source": [
    "## Was sind GUIs?\n",
    "\n",
    "Graphical User Interfaces (GUIs) sind Benutzeroberflächen, die es dem Nutzer ermöglichen, mit einem Computer oder einer Anwendung durch grafische Elemente wie Buttons, Textfelder und Menüs zu interagieren. Im Gegensatz zu textbasierten Schnittstellen (CLI - Command Line Interface) sind GUIs benutzerfreundlicher und intuitiver zu bedienen.\n",
    "\n",
    "**Beispiele für GUIs in der realen Welt:**\n",
    "- Betriebssysteme (Windows, macOS, Linux)\n",
    "- Anwendungen (Webbrowser, Textverarbeitungsprogramme, Spiele)\n",
    "- Mobile Apps (Social Media Apps, Banking Apps)\n",
    "\n",
    "GUIs sind ein wesentlicher Bestandteil moderner Software, da sie die Benutzererfahrung verbessern und komplexe Aufgaben erleichtern."
   ]
  },
  {
   "cell_type": "markdown",
   "metadata": {},
   "source": [
    "### Event-gesteuerte Programmierung in GUIs\n",
    "\n",
    "Ereignisgesteuerte Programmierung ist ein Programmierparadigma, das besonders in der Entwicklung von GUIs verwendet wird. Hierbei wird der Programmablauf durch Ereignisse (wie Mausklicks, Tastatureingaben oder Systemereignisse) bestimmt. \n",
    "\n",
    "**Merkmale der ereignisgesteuerten Programmierung:**\n",
    "- **Ereignisse:** Aktionen des Benutzers oder des Systems, die vom Programm erfasst werden (z.B. Mausklick, Tastendruck).\n",
    "- **Ereignishandler:** Funktionen oder Methoden, die auf spezifische Ereignisse reagieren und entsprechende Aktionen ausführen.\n",
    "- **Ereignisschleife:** Ein kontinuierlicher Prozess, der auf Ereignisse wartet und diese an die entsprechenden Ereignishandler weiterleitet.\n",
    "\n",
    "**Vorteile:**\n",
    "- **Reaktionsfähigkeit:** Anwendungen können sofort auf Benutzeraktionen reagieren, was eine dynamische und interaktive Benutzererfahrung ermöglicht.\n",
    "- **Modularität:** Ereignishandler sind oft modular und unabhängig, was die Wartung und Erweiterung der Anwendung erleichtert.\n",
    "\n",
    "Durch die ereignisgesteuerte Programmierung können grafische Benutzeroberflächen benutzerfreundlicher und interaktiver gestaltet werden, was einen deutlichen Vorteil gegenüber textbasierten Oberflächen darstellt."
   ]
  },
  {
   "cell_type": "markdown",
   "metadata": {},
   "source": [
    "# Grafische Oberflächen (GUI - Graphical User Interface)\n",
    "\n",
    "Ab ca. 1970 kam die Idee auf die Oberflächen nicht mehr rein textbasiert zu gestalten. Die ersten Entwickungen stammten von XEROX. Die erste bekanntere grafische Oberfläche verkaufte Steve Jobs auf dem Apple Lisa. (Siehe auch [GUI-Wikipedia](https://de.wikipedia.org/wiki/Grafische_Benutzeroberfl%C3%A4che).)\n",
    "\n",
    "Da die Basisentwicklung im GUI-Bereich sehr aufwändig ist (Fenster zeichnen, Mausaktionen auswerten, etc.) wird kein Anwendungsprogrammierer hier selbst Hand anlegen, sondern man nutzt bereits vorhandene GUI-Frameworks, welche einem die lästigen Basisaufgaben abnehmen. Heutzutage bringt jede moderne Programmiersprache ihre eigenen GUI-Frameworks mit:\n",
    "\n",
    "- **Java:**\n",
    "  - **AWT (Abstract Window Toolkit):** benutzt keiner mehr.\n",
    "  - **Swing:** Folgeframework von AWT, wurde sehr weit verwendet, wird nicht mehr weiterentwickelt.\n",
    "  - **JavaFX:** Nachfolger von Swing, hat sich aber nicht durchgesetzt.\n",
    "\n",
    "- **Python:**\n",
    "  - **TKInter:** Teil der Python Standardbibliothek (wird kaum noch verwendet).\n",
    "  - **PyQT:** Ein leistungsfähiges und populäres Framework, das auf der Qt-Bibliothek basiert. Es bietet eine umfangreiche Sammlung von Widgets und Tools für die GUI-Entwicklung.\n",
    "  - **Kivy:** Ein Open-Source-Framework, das sich besonders für Multitouch-Anwendungen eignet und plattformübergreifend arbeitet.\n",
    "\n",
    "- **C#:**\n",
    "  - **Windows Forms:** Ein älteres Framework für GUI-Anwendungen unter Windows, das immer noch verwendet wird, aber nicht mehr weiterentwickelt wird.\n",
    "  - **WPF (Windows Presentation Foundation):** Moderneres Framework für die Entwicklung von Desktop-Anwendungen unter Windows mit Unterstützung für umfangreiche Medienintegration.\n",
    "  - **UWP (Universal Windows Platform):** Ermöglicht die Erstellung von Anwendungen, die auf allen Windows 10 Geräten laufen, einschließlich PC, Tablets und Smartphones.\n",
    "\n",
    "- **C++:**\n",
    "  - **Qt:** Ein leistungsfähiges und plattformübergreifendes Framework, das für die Entwicklung von Desktop- und mobilen Anwendungen verwendet wird.\n",
    "  - **wxWidgets:** Ein weiteres plattformübergreifendes GUI-Toolkit, das in C++ geschrieben ist und native GUI-Elemente verwendet.\n",
    "\n",
    "- **JavaScript:**\n",
    "  - **Electron:** Ein Framework für die Erstellung von plattformübergreifenden Desktop-Anwendungen mit Web-Technologien (HTML, CSS, JavaScript). Electron wird von vielen beliebten Anwendungen wie Visual Studio Code und Slack verwendet.\n",
    "\n",
    "- **Swift (für macOS und iOS):**\n",
    "  - **Cocoa:** Das native Framework für die Entwicklung von Anwendungen für macOS.\n",
    "  - **SwiftUI:** Ein modernes Framework von Apple für die Erstellung von Benutzeroberflächen mit deklarativem Swift-Code.\n",
    "\n",
    "- **Kotlin (für Android):**\n",
    "  - **Android SDK:** Das Standard-Toolkit für die Entwicklung von Android-Anwendungen mit Unterstützung für umfangreiche UI-Komponenten.\n",
    "\n",
    "In der heutigen Zeit hat sich jedoch die Webentwicklung als dominierende Plattform für Anwendungsentwicklung etabliert. Moderne Webanwendungen sind in der Lage, komplexe und interaktive Benutzeroberflächen bereitzustellen, die auf verschiedenen Geräten und Plattformen zugänglich sind. Dies hat mehrere Gründe:\n",
    "\n",
    "1. **Plattformunabhängigkeit:** Webanwendungen laufen auf jedem Gerät mit einem Webbrowser, sei es ein Desktop, Laptop, Tablet oder Smartphone.\n",
    "2. **Einfache Verteilung und Aktualisierung:** Es ist einfacher, Webanwendungen zu aktualisieren und zu verteilen, da Benutzer nur den Browser aktualisieren müssen und nicht die gesamte Anwendung herunterladen und installieren müssen.\n",
    "3. **Reichhaltige Benutzererfahrung:** Mit fortschrittlichen Technologien wie HTML5, CSS3 und JavaScript (sowie Bibliotheken und Frameworks wie React, Angular und Vue.js) können Entwickler sehr interaktive und responsive Benutzeroberflächen erstellen.\n",
    "4. **Kollaborations- und Echtzeit-Funktionen:** Webanwendungen können leicht kollaborative und Echtzeit-Funktionen integrieren, wie sie z.B. in Google Docs oder Slack zu finden sind.\n",
    "5. **Cloud-Integration:** Webanwendungen können nahtlos mit Cloud-Diensten integriert werden, um Daten zu speichern und zu synchronisieren.\n",
    "\n",
    "Zusammenfassend lässt sich sagen, dass während klassische GUI-Frameworks in vielen Programmiersprachen weiterhin eine Rolle spielen, die Webentwicklung aufgrund ihrer Flexibilität, Reichweite und der modernen Entwicklungsmöglichkeiten die bevorzugte Methode für viele Anwendungsfälle geworden ist.\n",
    "\n",
    "\n",
    "Innerhalb dieser Veranstaltung werden wir nur die Grundzüge von GUI-Programmierung kennenlernen. Wir verwenden hierfür:\n"
   ]
  },
  {
   "cell_type": "markdown",
   "metadata": {},
   "source": [
    "## Einführung in ipywidgets\n",
    "\n",
    "`ipywidgets` ist eine Bibliothek in Python, die es ermöglicht, interaktive Widgets in Jupyter Notebooks zu erstellen. Diese Widgets verbessern die Interaktivität von Notebooks, indem sie Benutzern erlauben, Eingaben über grafische Elemente wie Schieberegler, Textfelder, Schaltflächen und vieles mehr zu machen.\n",
    "\n",
    "### Vorteile von `ipywidgets`:\n",
    "\n",
    "- **Interaktivität:** Widgets können interaktive Steuerungselemente wie Schieberegler und Textfelder bereitstellen, die es ermöglichen, Parameter dynamisch anzupassen und sofortige Ergebnisse zu sehen.\n",
    "- **Benutzerfreundlichkeit:** Durch die grafische Benutzeroberfläche wird die Bedienung von Notebooks intuitiver und ansprechender.\n",
    "- **Integration:** `ipywidgets` lässt sich nahtlos mit anderen Python-Bibliotheken wie `matplotlib`, `pandas` und `numpy` integrieren, um interaktive Datenvisualisierungen und Analysen zu erstellen.\n",
    "\n",
    "### Anwendungsbereiche:\n",
    "\n",
    "- **Datenvisualisierung:** Dynamische Diagramme und Grafiken, die auf Benutzereingaben reagieren.\n",
    "- **Datenanalyse:** Interaktive Dashboards und Formulare zur Datenerfassung und -manipulation.\n",
    "- **Lehre:** Erstellung von interaktiven Lernmaterialien und Demonstrationen in Notebooks.\n",
    "\n",
    "Um `ipywidgets` nutzen zu können, muss man es installieren (im jupyterhub schon geschehen, sonst `python -m pip install ipywidgets`) und die Bibliothek dann noch importieren:\n"
   ]
  },
  {
   "cell_type": "code",
   "execution_count": null,
   "metadata": {},
   "outputs": [],
   "source": [
    "import ipywidgets as widgets"
   ]
  },
  {
   "cell_type": "markdown",
   "metadata": {},
   "source": [
    "# Grundlagen von Widgets\n",
    "\n",
    "Widgets haben ihre eigene Display-Repräsentation, die es ihnen erlaubt, mit dem Display-Framework von IPython angezeigt zu werden. Das Konstruieren und Zurückgeben eines IntSliders zeigt das Widget automatisch an (wie unten zu sehen). Widgets werden innerhalb des Ausgabebereichs unterhalb der Codezelle angezeigt. Durch das Löschen der Zellenausgabe wird auch das Widget entfernt."
   ]
  },
  {
   "cell_type": "code",
   "execution_count": null,
   "metadata": {},
   "outputs": [],
   "source": [
    "widgets.IntSlider()"
   ]
  },
  {
   "cell_type": "markdown",
   "metadata": {},
   "source": [
    "Den Slider kann man noch etwas genauer gestalten:"
   ]
  },
  {
   "cell_type": "code",
   "execution_count": null,
   "metadata": {},
   "outputs": [],
   "source": [
    "# Beispiel eines einfachen Sliders\n",
    "slider = widgets.IntSlider(value=7, min=0, max=10, step=1, description='Wert:')\n",
    "display(slider)"
   ]
  },
  {
   "cell_type": "markdown",
   "metadata": {},
   "source": [
    "Hier ist ein Textfeld-Widget, das es dem Benutzer ermöglicht, Text einzugeben:\n"
   ]
  },
  {
   "cell_type": "code",
   "execution_count": null,
   "metadata": {},
   "outputs": [],
   "source": [
    "# Beispiel eines einfachen Textfeldes\n",
    "text = widgets.Text(\n",
    "    value='Hello, world!',\n",
    "    placeholder='Type something',\n",
    "    description='Text:',\n",
    "    disabled=False\n",
    ")\n",
    "display(text)\n"
   ]
  },
  {
   "cell_type": "markdown",
   "metadata": {},
   "source": [
    "Das widget wird einer Variable zugewiesen und anschließend mit dem Befehl `display()` zur Anzeige gebracht. So können auch mehrere widgets erst einmal definiert und anschließend angezeigt werden:"
   ]
  },
  {
   "cell_type": "code",
   "execution_count": null,
   "metadata": {},
   "outputs": [],
   "source": [
    "from ipywidgets import Text, IntSlider, Dropdown\n",
    "# Definiere die grafischen Elemente\n",
    "\n",
    "# Erstelle ein neues Text-Eingabefeld tb1 und zeige es an.\n",
    "tb1 = None\n",
    "# Erstelle IntSlider-Widget is1 und zeige es an.\n",
    "is1 = None\n",
    "# Erstelle Dropdown-Widget dd1 und zeige es an\n",
    "dd1 = None\n",
    "\n",
    "display(tb1)\n",
    "display(is1)\n",
    "display(dd1) "
   ]
  },
  {
   "cell_type": "markdown",
   "metadata": {},
   "source": [
    "Eine Übersicht über die wichtigsten Ipywidgets gibt es hier: https://ipywidgets.readthedocs.io/en/latest/examples/Widget%20List.html"
   ]
  },
  {
   "cell_type": "markdown",
   "metadata": {},
   "source": [
    "Die einzelnen Widgets können über Container positioniert werden. `ipywidgtes` liefert vorgefertigte Container mit:\n",
    "- `VBox` Kinder der Vbox werden vertikal untereinander angeordnet\n",
    "- `HBox` Kinder der Hbox werden horizontal nebeneinander angeordnet\n",
    "- `Grid` ein Grid besteht aus einzelnen Boxen, die per Index angesteuert werden können. \n",
    "- `Box` Oberklasse, aller anderen Elemente, mit sehr vielen Möglichkeiten zur individuellen Gestaltung"
   ]
  },
  {
   "cell_type": "markdown",
   "metadata": {},
   "source": [
    "Da grafische Oberflächen sehr unterschiedlich aufgebaut sein können, ist das Design mitunter sehr aufwendig. Hier ein kleines Beispiel für einen verschachtelten Aufbau mit unterschiedlichen Widgets in unterschiedlichen Farben und Größen, plus einer Verknüpfung zweier Widgets."
   ]
  },
  {
   "cell_type": "code",
   "execution_count": null,
   "metadata": {},
   "outputs": [],
   "source": [
    "import ipywidgets as widgets\n",
    "from IPython.display import display\n",
    "\n",
    "# Erstellen der Labels\n",
    "label1 = widgets.Label(value=\"Label 1\")\n",
    "label2 = widgets.Label(value=\"Label 2\")\n",
    "\n",
    "# Erstellen der Textfelder mit unterschiedlichen Größen und Farben\n",
    "text_field1 = widgets.IntText(\n",
    "    value= 0,\n",
    "    description='Text1',\n",
    "    style={'description_width': 'initial'},\n",
    "    layout=widgets.Layout(width='200px', height='30px')\n",
    ")\n",
    "text_field2 = widgets.Text(\n",
    "    value='Textfeld 2',\n",
    "    description='',\n",
    "    style={'description_width': 'initial'},\n",
    "    layout=widgets.Layout(width='250px', height='40px')\n",
    ")\n",
    "\n",
    "# Erstellen eines int-Sliders und verbinden mit TextField 1\n",
    "int_slider1 = widgets.IntSlider(\n",
    "    style={'handle_color': 'lightblue'}\n",
    ")\n",
    "\n",
    "# Die beiden Widgets miteinander verknüpfen\n",
    "pass\n",
    "\n",
    "# Erstellen der Buttons mit unterschiedlichen Größen und Farben\n",
    "button1 = widgets.Button(\n",
    "    description='Button 1',\n",
    "    layout=widgets.Layout(width='100px', height='30px'),\n",
    "    style={'button_color': 'lightcoral'}\n",
    ")\n",
    "button2 = widgets.Button(\n",
    "    description='Button 2',\n",
    "    layout=widgets.Layout(width='150px', height='40px'),\n",
    "    style={'button_color': 'lightseagreen'}\n",
    ")\n",
    "\n",
    "# Erstellen der VBoxen mit Labels, Textfeldern und Buttons\n",
    "vbox1 = None\n",
    "vbox2 = None\n",
    "\n",
    "# Erstellen der HBox, die die zwei VBoxen enthält\n",
    "hbox = None\n",
    "\n",
    "# Anzeigen der HBox\n",
    "display(hbox)\n"
   ]
  },
  {
   "cell_type": "markdown",
   "metadata": {},
   "source": [
    "### Interaktive Widgets und Ereignisbehandlung\n",
    "\n",
    "Widgets können auch interaktiv sein und auf Benutzeraktionen reagieren. Ein Button-Widget ist ein gutes Beispiel dafür. Lassen Sie uns einen Button erstellen, der eine Nachricht ausgibt, wenn er angeklickt wird:\n"
   ]
  },
  {
   "cell_type": "code",
   "execution_count": null,
   "metadata": {},
   "outputs": [],
   "source": [
    "# Beispiel eines Buttons mit Callback\n",
    "button = widgets.Button(description=\"Klicken Sie mich\")\n",
    "output = widgets.Output()\n",
    "\n",
    "# Funktion die beim Klick des Buttons ausgelöst wird\n",
    "pass\n",
    "\n",
    "# Event \"on_klick\" des Buttons definieren\n",
    "pass\n",
    "\n",
    "display(button, output)"
   ]
  },
  {
   "cell_type": "markdown",
   "metadata": {},
   "source": [
    "Und jetzt zwei Buttons, welche jeweils den Text des anderen verändern."
   ]
  },
  {
   "cell_type": "code",
   "execution_count": null,
   "metadata": {},
   "outputs": [],
   "source": [
    "# Beispiel für eine einfache HBox\n",
    "# Erstellen der Buttons\n",
    "pass\n",
    "\n",
    "# Callback-Funktion für Button 1\n",
    "pass\n",
    "\n",
    "# Callback-Funktion für Button 2\n",
    "pass\n",
    "\n",
    "# Verknüpfen der Callback-Funktionen mit den Buttons\n",
    "pass\n",
    "\n",
    "# Anordnung der buttons nebeneinander\n",
    "container = widgets.HBox([button1, button2])\n",
    "\n",
    "# Anzeigen der Buttons\n",
    "display(container)\n"
   ]
  },
  {
   "cell_type": "markdown",
   "metadata": {},
   "source": [
    "# Zusammenfassung\n",
    "\n",
    "- Wir können mit der Bibliothek `ipywidgets` sehr einfach grafische Elemente in Notebooks einfügen.\n",
    "- GUIs zu programmieren erfordert viel Designaufwand.\n",
    "- Die Programmierung wird eventgesteuert."
   ]
  },
  {
   "cell_type": "markdown",
   "metadata": {},
   "source": [
    "# Aufgabe\n",
    "\n",
    "Erstellen Sie eine vertikale Box (VBox), die drei Widgets enthält:\n",
    "\n",
    "1. Ein Texteingabefeld mit der Beschriftung \"Ihr Name\" und dem Platzhaltertext \"Geben Sie hier Ihren Namen ein\".\n",
    "2. Einen Button mit der Beschriftung \"Sag Hallo\".\n",
    "3. Ein Label, das für die Ausgabe verwendet wird.\n",
    "\n",
    "Die Funktionalität soll wie folgt sein:\n",
    "- Wenn der Button geklickt wird, soll der im Texteingabefeld eingegebene Name ausgelesen werden.\n",
    "- Der Label-Text soll anschließend auf \"Hallo \" + der eingegebene Name gesetzt werden.\n"
   ]
  },
  {
   "cell_type": "code",
   "execution_count": null,
   "metadata": {},
   "outputs": [],
   "source": [
    "import ipywidgets as widgets\n",
    "from IPython.display import display\n",
    "\n",
    "# Erstellen des Texteingabefeldes\n",
    "name_input = None\n",
    "\n",
    "# Erstellen des Buttons\n",
    "hello_button = None\n",
    "\n",
    "# Erstellen des Labels\n",
    "output_label = None\n",
    "\n",
    "# Funktion, die ausgeführt wird, wenn der Button geklickt wird\n",
    "pass\n",
    "\n",
    "# Verknüpfen der Funktion mit dem Button-Klick-Ereignis\n",
    "pass\n",
    "\n",
    "# Erstellen der VBox und Hinzufügen der Widgets\n",
    "vbox = widgets.VBox([name_input, hello_button, output_label])\n",
    "\n",
    "# Anzeigen der VBox\n",
    "display(vbox)\n"
   ]
  }
 ],
 "metadata": {
  "kernelspec": {
   "display_name": "Python 3",
   "language": "python",
   "name": "python3"
  },
  "language_info": {
   "codemirror_mode": {
    "name": "ipython",
    "version": 3
   },
   "file_extension": ".py",
   "mimetype": "text/x-python",
   "name": "python",
   "nbconvert_exporter": "python",
   "pygments_lexer": "ipython3",
   "version": "3.11.9"
  }
 },
 "nbformat": 4,
 "nbformat_minor": 2
}
