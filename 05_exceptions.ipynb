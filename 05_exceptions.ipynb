{
 "cells": [
  {
   "cell_type": "markdown",
   "metadata": {},
   "source": [
    "# Einführung in Exceptions in Python\n",
    "\n",
    "In diesem Notebook werden wir uns mit Exceptions in Python beschäftigen. Wir werden folgende Themen behandeln:\n",
    "- Was sind Exceptions?\n",
    "- Welche Exceptions gibt es?\n",
    "- Wie reagiert man auf eine Exception?\n",
    "- Eigene Exceptions definieren"
   ]
  },
  {
   "cell_type": "markdown",
   "metadata": {},
   "source": [
    "## Was sind Exceptions?\n",
    "\n",
    "Exceptions sind Ereignisse, die während der Ausführung eines Programms auftreten und den normalen Programmfluss unterbrechen. Sie treten auf, wenn ein Fehler auftritt, z.B. wenn versucht wird, durch Null zu teilen oder auf eine nicht existierende Datei zuzugreifen.\n",
    "\n",
    "In Python können Exceptions mit dem Schlüsselwort `raise` ausgelöst werden."
   ]
  },
  {
   "cell_type": "code",
   "execution_count": null,
   "metadata": {},
   "outputs": [],
   "source": [
    "# Beispiel für eine Exception\n",
    "x = 10\n",
    "y = 0\n",
    "if y == 0:\n",
    "    raise ZeroDivisionError(\"Division durch Null ist nicht erlaubt!\")\n"
   ]
  },
  {
   "cell_type": "markdown",
   "metadata": {},
   "source": [
    "## Welche Exceptions gibt es?\n",
    "\n",
    "Python hat eine Vielzahl von eingebauten Exceptions, die für verschiedene Fehlerarten verwendet werden können. Hier sind einige häufig verwendete Exceptions:\n",
    "\n",
    "- `ZeroDivisionError`: Wird ausgelöst, wenn versucht wird, durch Null zu teilen.\n",
    "- `IndexError`: Wird ausgelöst, wenn ein ungültiger Index für eine Sequenz verwendet wird.\n",
    "- `KeyError`: Wird ausgelöst, wenn ein ungültiger Schlüssel für ein Wörterbuch verwendet wird.\n",
    "- `ValueError`: Wird ausgelöst, wenn eine Operation oder Funktion ein Argument vom richtigen Typ, aber mit einem unangemessenen Wert erhält.\n",
    "- `TypeError`: Wird ausgelöst, wenn eine Operation oder Funktion auf ein Objekt eines unangemessenen Typs angewendet wird.\n",
    "- `FileNotFoundError`: Wird ausgelöst, wenn versucht wird, auf eine Datei zuzugreifen, die nicht existiert.\n"
   ]
  },
  {
   "cell_type": "code",
   "execution_count": null,
   "metadata": {},
   "outputs": [],
   "source": [
    "# Beispiel Key-Error\n",
    "drinks_and_sugar = {\"water\" : 0, \"cola\" : 100, \"beer\": 70, \"prosecco\": 50}\n",
    "drinks_and_sugar[\"fanta\"]"
   ]
  },
  {
   "cell_type": "markdown",
   "metadata": {},
   "source": [
    "## Wie reagiert man auf eine Exception?\n",
    "\n",
    "Um auf eine Exception zu reagieren, verwenden wir die `try`-`except`-Blöcke. Damit können wir den Code schreiben, der möglicherweise eine Exception auslöst, und dann angeben, was passieren soll, wenn die Exception auftritt."
   ]
  },
  {
   "cell_type": "code",
   "execution_count": null,
   "metadata": {},
   "outputs": [],
   "source": [
    "# Beispiel für try-except\n",
    "x = 10\n",
    "y = 0\n",
    "try:\n",
    "    result = x / y\n",
    "except ZeroDivisionError:\n",
    "    print(\"Fehler: Division durch Null ist nicht erlaubt!\")\n"
   ]
  },
  {
   "cell_type": "code",
   "execution_count": null,
   "metadata": {},
   "outputs": [],
   "source": [
    "# Beispiel für das Abfangen mehrerer Exceptions\n",
    "my_list = [1, 2, 3]\n",
    "try:\n",
    "    print(my_list[1])\n",
    "except IndexError:\n",
    "    print(\"Fehler: Index ist außerhalb des gültigen Bereichs!\")\n",
    "except Exception as e:\n",
    "    print(f\"Ein anderer Fehler ist aufgetreten: {e}\")\n"
   ]
  },
  {
   "cell_type": "markdown",
   "metadata": {},
   "source": [
    "![image](./images/commitstrip_trycatch.jpg)\n",
    "\n",
    "(https://www.commitstrip.com/en/2015/07/30/coders-weaknesses-1-the-trycatch/?)"
   ]
  },
  {
   "cell_type": "markdown",
   "metadata": {},
   "source": [
    "Neben `try`und `catch`gibt es noch die Anweisung `finally`. Diese wird immer ausgeführt.Die finally-Klausel ist also der ideale Ort um Aufräumarbeiten durchzuführen. Hier können beispielsweise Dateien geschlossen oder Ressourcen freigegeben werden."
   ]
  },
  {
   "cell_type": "code",
   "execution_count": null,
   "metadata": {},
   "outputs": [],
   "source": [
    "# Beispiel für try-except-finally mit for-Loop\n",
    "numbers = [10, 5, 0, 2]\n",
    "\n",
    "for number in numbers:\n",
    "    try:\n",
    "        result = 10 / number\n",
    "        print(f\"Das Ergebnis der Division ist: {result}\")\n",
    "    except ZeroDivisionError:\n",
    "        print(\"Fehler: Division durch Null ist nicht erlaubt!\")\n",
    "    finally:\n",
    "        print(\"Dieser Block wird immer ausgeführt, unabhängig davon, ob eine Exception aufgetreten ist oder nicht.\")\n"
   ]
  },
  {
   "cell_type": "markdown",
   "metadata": {},
   "source": [
    "## Eigene Exceptions definieren\n",
    "\n",
    "Wir können auch unsere eigenen Exceptions definieren, indem wir eine neue Klasse erstellen, die von der eingebauten Klasse `Exception` erbt.\n"
   ]
  },
  {
   "cell_type": "code",
   "execution_count": null,
   "metadata": {},
   "outputs": [],
   "source": [
    "# Beispiel für eine benutzerdefinierte Exception\n",
    "class MyCustomError(Exception):\n",
    "    def __init__(self, message):\n",
    "        self.message = message\n",
    "\n",
    "def check_value(value):\n",
    "    if value < 0:\n",
    "        raise MyCustomError(\"Wert darf nicht negativ sein!\")\n",
    "\n",
    "check_value(-1)\n"
   ]
  },
  {
   "cell_type": "markdown",
   "metadata": {},
   "source": [
    "<img src=\"./images/UserTooDumbException.jpg\" width=\"400\">"
   ]
  },
  {
   "cell_type": "markdown",
   "metadata": {},
   "source": [
    "# Aufgabe: Brutto-Netto-Rechner mit Exception Handling\n",
    "\n",
    "Implementiere einen einfachen Brutto-Netto-Rechner in Python. Der Rechner soll folgende Funktionalitäten bieten:\n",
    "\n",
    "- Der Benutzer gibt den Bruttobetrag ein.\n",
    "- Der Rechner berechnet den Nettobetrag basierend auf einem festen Steuersatz von 19,0%.\n",
    "- Der Rechner soll sicherstellen, dass die Eingabe ein gültiger numerischer Wert ist.\n",
    "- Wenn der Benutzer eine ungültige Eingabe wie einen String oder andere nicht-numerische Werte macht, soll eine entsprechende Fehlermeldung ausgegeben werden, und der Benutzer soll erneut zur Eingabe aufgefordert werden.\n",
    "\n",
    "Anforderungen:\n",
    "\n",
    "- Verwende try-except-Blöcke, um Eingabefehler abzufangen.\n",
    "- Definiere eine Funktion calculate_net_amount(brutto), die den Nettobetrag berechnet.\n",
    "- Gib die Fehlermeldung \"Ungültige Eingabe! Bitte geben Sie eine Zahl ein.\" aus, wenn eine ungültige Eingabe erkannt wird.\n",
    "- Der Nettobetrag soll auf zwei Nachkommastellen abgeschnitten werden.\n",
    "\n",
    "Hinweise:\n",
    "\n",
    "- Verwende die Funktion [`input()`](https://docs.python.org/3/library/functions.html#input), um Eingaben vom Benutzer zu erhalten. `input()` gibt die Eingabe als String zurück, daher muss sie in eine Gleitkommazahl (`float`) umgewandelt werden.\n",
    "- Zahlenvariablen in Strings können mittels `:.2f` abgeschnitten werden (siehe [hier](https://docs.python.org/3/library/string.html#grammar-token-format-string-format_spec))"
   ]
  },
  {
   "cell_type": "markdown",
   "metadata": {},
   "source": [
    "Beispiel:\n",
    "```\n",
    "Geben Sie den Bruttobetrag ein: abc\n",
    "Ungültige Eingabe! Bitte geben Sie eine Zahl ein.\n",
    "Geben Sie den Bruttobetrag ein: 1000\n",
    "Der Nettobetrag beträgt: 840.34\n",
    "```"
   ]
  },
  {
   "cell_type": "code",
   "execution_count": null,
   "metadata": {},
   "outputs": [],
   "source": [
    "def calculate_net_amount(brutto):\n",
    "    STEUER = 19.0\n",
    "    brutto = None # hier geeignet ändern\n",
    "    return brutto\n",
    "\n",
    "falsche_eingabe = True\n",
    "while falsche_eingabe:\n",
    "    pass \n"
   ]
  }
 ],
 "metadata": {
  "kernelspec": {
   "display_name": "Python 3",
   "language": "python",
   "name": "python3"
  },
  "language_info": {
   "codemirror_mode": {
    "name": "ipython",
    "version": 3
   },
   "file_extension": ".py",
   "mimetype": "text/x-python",
   "name": "python",
   "nbconvert_exporter": "python",
   "pygments_lexer": "ipython3",
   "version": "3.11.9"
  }
 },
 "nbformat": 4,
 "nbformat_minor": 2
}
