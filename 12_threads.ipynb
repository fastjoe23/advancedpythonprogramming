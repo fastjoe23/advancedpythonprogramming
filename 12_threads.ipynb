{
 "cells": [
  {
   "cell_type": "markdown",
   "metadata": {},
   "source": [
    "# Einführung in Parallele Programmierung\n",
    "\n",
    "Die parallele Programmierung ist ein Ansatz zur gleichzeitigen Ausführung von Aufgaben, um die Gesamtleistung und Effizienz eines Programms zu verbessern. Sie ist besonders wichtig in der heutigen Zeit, da Computer mit mehreren Prozessorkernen und -threads ausgestattet sind, die gleichzeitig arbeiten können. Parallele Programmierung zielt darauf ab, die Ressourcen eines Systems optimal zu nutzen und die Bearbeitungszeit von Aufgaben zu verkürzen.\n",
    "\n",
    "## Warum ist parallele Programmierung wichtig?\n",
    "\n",
    "- **Leistungssteigerung**: Durch die parallele Ausführung von Aufgaben können mehrere Berechnungen gleichzeitig stattfinden, was insgesamt zu einer schnelleren Ausführung führt.\n",
    "- **Skalierbarkeit**: Mit paralleler Programmierung können Programme einfacher an unterschiedliche Hardwarekonfigurationen angepasst werden, indem mehr Prozessorkerne oder -threads genutzt werden.\n",
    "- **Effizienz**: Viele Aufgaben in der heutigen Softwareentwicklung erfordern parallele Verarbeitung, um große Datenmengen effizient zu verarbeiten oder um Echtzeitreaktionen zu gewährleisten.\n",
    "\n",
    "## Grundlegende Konzepte\n",
    "\n",
    "- **Threads und Prozesse**: Zwei grundlegende Einheiten der parallelen Programmierung. Threads sind leichtgewichtige \"leicht parallelisierbare\" Einheiten, die innerhalb desselben Prozesses laufen und Ressourcen teilen. Prozesse hingegen sind unabhängige Ausführungseinheiten mit separaten Adressräumen.\n",
    "- **Nebenläufigkeit vs. Parallelität**: Nebenläufigkeit beschreibt die gleichzeitige Ausführung mehrerer Aufgaben, während Parallelität die gleichzeitige Ausführung dieser Aufgaben auf mehreren Prozessorkernen oder -threads bedeutet.\n",
    "\n",
    "**Serieller Ablauf:**\n",
    "```C\n",
    "+------------+        +-----------+        +------------+       \n",
    "| Prozess 1  | -----> | Prozess 2 | -----> | Prozess 3  | \n",
    "+------------+        +-----------+        +------------+       \n",
    "````\n",
    "\n",
    "**Nebenläufigkeit**\n",
    "\n",
    "![multithreading](./images/threads_multitasking_zeitscheiben.png)\n",
    "\n",
    "(entnommen aus Python 3 von Johannes Ernesti, Peter Kaiser)\n",
    "\n",
    "**Parallelität:**\n",
    "\n",
    "![parallel](./images/parallel.png)\n",
    "\n",
    "## Python und parallele Programmierung\n",
    "\n",
    "In Python gibt es verschiedene Ansätze zur parallelen Programmierung, darunter das `concurrent.futures`-Modul, das eine einfache und effektive Möglichkeit bietet, Aufgaben parallel auszuführen. Dieses Modul abstrahiert die Details der Thread- und Prozessverwaltung und erleichtert die parallele Ausführung von Funktionen.\n",
    "\n",
    "In diesem Notebook werden wir uns auf die Verwendung von `concurrent.futures` konzentrieren, um die Grundlagen der parallelen Programmierung in Python zu demonstrieren.\n"
   ]
  },
  {
   "cell_type": "markdown",
   "metadata": {},
   "source": [
    "# Erstes Beispiel\n",
    "\n",
    "Wir definieren zwei Methoden die stupide Zählen. Eine zählt aufwärts und eine abwärts."
   ]
  },
  {
   "cell_type": "code",
   "execution_count": null,
   "metadata": {},
   "outputs": [],
   "source": [
    "import random\n",
    "\n",
    "def count_a():\n",
    "    pass\n",
    "\n",
    "def count_b():\n",
    "    pass"
   ]
  },
  {
   "cell_type": "markdown",
   "metadata": {},
   "source": [
    "Nun lassen wir sie einmal seriell zählen:"
   ]
  },
  {
   "cell_type": "code",
   "execution_count": null,
   "metadata": {},
   "outputs": [],
   "source": [
    "count_a()\n",
    "count_b()"
   ]
  },
  {
   "cell_type": "markdown",
   "metadata": {},
   "source": [
    "Und jetzt einmal nebenläufig (also unecht parallel):"
   ]
  },
  {
   "cell_type": "code",
   "execution_count": null,
   "metadata": {},
   "outputs": [],
   "source": [
    "import concurrent.futures\n",
    "\n",
    "with concurrent.futures.ThreadPoolExecutor() as executor:\n",
    "        executor.submit(count_a)\n",
    "        executor.submit(count_b)"
   ]
  },
  {
   "cell_type": "markdown",
   "metadata": {},
   "source": [
    "Und zum Schluss noch einmal wirklich parallel. Dazu müssen wir allerdings etwas tricksen, weil sich ipynb-Notebooks nicht wirklich hierfür eignen. In der Datei `parallel.py` sind die beiden Counter definiert und der parallele Aufruf. Wir starten diesen Aufruf in der Shell:"
   ]
  },
  {
   "cell_type": "code",
   "execution_count": null,
   "metadata": {},
   "outputs": [],
   "source": [
    "!python ./parallel.py"
   ]
  },
  {
   "cell_type": "markdown",
   "metadata": {},
   "source": [
    "Wie wir sehen ändert sich bei der nebenläufigen Programmierung kaum etwas an der Laufzeit. Aber der Counter B startet sofort nach Counter A, ohne das gewartet wird bis Counter A zu Ende ist. Bei der echten Parallelität starten nicht nur beide gleichzeitig, auch die Laufzeit ist deutlich kürzer, als beim seriellen Ablauf."
   ]
  },
  {
   "cell_type": "markdown",
   "metadata": {},
   "source": [
    "# Synchronisation und Locks\n",
    "\n",
    "Manchmal greifen mehrere parallele Prozesse auf eine gemeinsame Ressource zu, wie etwa die Standardausgabe bei einem print()-Befehl. Dies kann zu Konflikten führen. Ein ähnliches Problem tritt im täglichen Leben auf. Stellen Sie sich vor, in einer Werkstatt teilen sich mehrere Handwerker ein einziges Werkzeug, etwa einen Bohrer. Es wäre chaotisch, wenn mehrere Handwerker gleichzeitig versuchen würden, den Bohrer zu benutzen. Stattdessen läuft es so ab: Wenn Max den Bohrer nimmt, zeigt er damit, dass er ihn gerade verwendet. Die anderen Handwerker sehen das und warten, bis Max fertig ist und das Werkzeug zurücklegt. Wenn Anna den Bohrer benötigt, wartet sie, bis Max seine Arbeit abgeschlossen hat und den Bohrer wieder verfügbar macht.\n",
    "\n",
    "Ähnliches ist auch bei unseren Zählern passiert. Meistens zählen sie brav nacheinander. Aber hin und wieder sieht der Output so aus:\n",
    "```\n",
    "CountB: 95\n",
    "CountA: 8\n",
    "CountB: 94CountA: 9\n",
    "````\n",
    "Hier war dann die Standardausgabe `print()` noch von Counter B belegt und Counter A hat sich irgendwie dazwischen gemogelt. Um diese zu umgehen, kann man Ressourcen oder auch Variablen sperren /einen Lock setzen. Schauen wir uns das mal an einem Beispiel an:"
   ]
  },
  {
   "cell_type": "code",
   "execution_count": null,
   "metadata": {},
   "outputs": [],
   "source": [
    "import concurrent.futures\n",
    "import threading\n",
    "import random\n",
    "\n",
    "lock = threading.Lock()\n",
    "\n",
    "def synchronized_count_a():\n",
    "    for i in range(1, 101):\n",
    "        with lock:\n",
    "            print(f\"CountA: {i}\")\n",
    "            # Verzoegerung: sinnlose Zufallszahlen erzeugen\n",
    "            for _ in range(100000):\n",
    "                random.randint(1, 100)\n",
    "\n",
    "def synchronized_count_b():\n",
    "    for i in range(100, 0, -1):\n",
    "        with lock:\n",
    "            print(f\"CountB: {i}\")\n",
    "            # Verzoegerung: sinnlose Zufallszahlen erzeugen\n",
    "            for _ in range(100000):\n",
    "                random.randint(1, 100)\n",
    "\n",
    "\n",
    "with concurrent.futures.ThreadPoolExecutor() as executor:\n",
    "    executor.submit(synchronized_count_a)\n",
    "    executor.submit(synchronized_count_b)\n",
    "\n",
    "\n",
    "\n"
   ]
  },
  {
   "cell_type": "markdown",
   "metadata": {},
   "source": [
    "Mitunter ist es nötig, dass im Code erst weitergemacht werden darf, wenn das Ergebnis von vorab parallel durchgeführten Prozessen vorhanden ist. Zum Beispiel, wenn mehrere Datenbankabfragen parallel ausgeführt werden und die Ergebnisse dieser Abfragen zusammengeführt werden müssen, bevor die nächste Berechnung erfolgen kann. In solchen Fällen ist es entscheidend, auf die Fertigstellung aller parallelen Aufgaben zu warten, um sicherzustellen, dass alle benötigten Daten vorliegen.\n",
    "\n",
    "Ein praktisches Beispiel ist die Verarbeitung von großen Datenmengen. Stellen Sie sich vor, ein Programm muss eine große Datei in mehrere kleinere Teile aufteilen, diese Teile parallel verarbeiten und schließlich die Ergebnisse zusammenfügen. Der Ablauf könnte wie folgt aussehen:\n",
    "\n",
    "1. Datei aufteilen: Die große Datei wird in mehrere kleinere Teile aufgeteilt.\n",
    "2. Parallele Verarbeitung: Jeder Teil wird parallel verarbeitet, zum Beispiel durch das Ausführen einer bestimmten Analyse oder Transformation.\n",
    "3. Ergebnisse zusammenführen: Nachdem alle Teile verarbeitet wurden, werden die Ergebnisse gesammelt und zu einem Gesamtresultat kombiniert.\n",
    "\n",
    "Innerhalb von `concurrent.futures` gibt es zum Warten verschiende Werkzeuge:\n",
    "- `Future.result()`: Blockiert, bis das Ergebnis eines einzelnen Futures verfügbar ist.\n",
    "- `concurrent.futures.wait()`: Blockiert, bis alle Futures abgeschlossen sind oder eine bestimmte Bedingung erfüllt ist.\n",
    "- `concurrent.futures.as_completed()`: Gibt Futures in der Reihenfolge ihrer Fertigstellung zurück und ermöglicht eine sofortige Verarbeitung der Ergebnisse.\n",
    "\n",
    "Unten ein Beispiel mit `as_completed`."
   ]
  },
  {
   "cell_type": "markdown",
   "metadata": {},
   "source": [
    "# Bestimmung von $\\pi$ durch Monte-Carlo-Simulation\n",
    "\n",
    "Die Monte-Carlo-Methode ist eine stochastische Technik, die häufig in der numerischen Mathematik zur Lösung von Problemen verwendet wird, die deterministisch schwer zu lösen sind. In diesem Beispiel wird die Monte-Carlo-Methode verwendet, um den Wert von Pi zu approximieren. Das Grundprinzip ist, zufällige Punkte in einem Quadrat zu generieren und zu bestimmen, wie viele dieser Punkte innerhalb eines Kreises liegen, der in das Quadrat eingebettet ist.\n",
    "\n",
    "## Vorgehensweise\n",
    "\n",
    "1. **Generierung von zufälligen Punkten**: Es werden zufällige Punkte mit Koordinaten (x, y) im Bereich [-1, 1] generiert.\n",
    "2. **Überprüfung der Punkte**: Für jeden Punkt wird überprüft, ob er innerhalb des Einheitskreises liegt. Dies wird durch die Bedingung `x^2 + y^2 <= 1` überprüft.\n",
    "3. **Zählen der Punkte innerhalb des Kreises**: Die Anzahl der Punkte, die innerhalb des Kreises liegen, wird gezählt.\n",
    "4. **Berechnung von Pi**: Der Anteil der Punkte, die innerhalb des Kreises liegen, im Vergleich zur Gesamtzahl der generierten Punkte, wird verwendet, um Pi zu schätzen. Da das Verhältnis der Fläche des Kreises zur Fläche des Quadrats Pi/4 beträgt, ergibt sich Pi aus diesem Anteil multipliziert mit 4."
   ]
  },
  {
   "cell_type": "code",
   "execution_count": null,
   "metadata": {},
   "outputs": [],
   "source": [
    "import matplotlib.pyplot as plt\n",
    "import numpy as np\n",
    "\n",
    "# Anzahl der Punkte, die verwendet werden sollen\n",
    "num_points = 100\n",
    "\n",
    "# Zufällige Punkte generieren (x, y) innerhalb des Quadrats [-1, 1] x [-1, 1]\n",
    "points = np.random.rand(num_points, 2) * 2 - 1\n",
    "\n",
    "# Punkte im Viertelkreis zählen (x^2 + y^2 <= 1)\n",
    "inside_circle = points[np.linalg.norm(points, axis=1) <= 1]\n",
    "\n",
    "# Pi approximieren\n",
    "pi_estimate = 4 * len(inside_circle) / num_points\n",
    "\n",
    "# Plot Setup\n",
    "plt.figure(figsize=(6, 6))\n",
    "plt.title(f'Approximation von Pi mittels Monte Carlo Methode\\nGeschätzter Wert von Pi = {pi_estimate:.5f}')\n",
    "plt.xlim(-1, 1)\n",
    "plt.ylim(-1, 1)\n",
    "plt.gca().set_aspect('equal', adjustable='box')\n",
    "plt.xlabel('x')\n",
    "plt.ylabel('y')\n",
    "\n",
    "# Punkte plotten\n",
    "plt.scatter(points[:, 0], points[:, 1], color='blue', s=5, label='Punkte außerhalb des Viertelkreises')\n",
    "plt.scatter(inside_circle[:, 0], inside_circle[:, 1], color='red', s=5, label='Punkte innerhalb des Viertelkreises')\n",
    "\n",
    "# Viertelkreis hinzufügen\n",
    "circle = plt.Circle((0, 0), 1, color='green', fill=False, linestyle='--', linewidth=2)\n",
    "plt.gca().add_patch(circle)\n",
    "\n",
    "# Legende\n",
    "plt.legend(loc='best')\n",
    "\n",
    "# Anzeigen\n",
    "plt.show()"
   ]
  },
  {
   "cell_type": "markdown",
   "metadata": {},
   "source": [
    "## Parallelisierung\n",
    "\n",
    "Um die Berechnung effizienter zu gestalten, wird die Aufgabe auf mehrere parallele Prozesse aufgeteilt:\n",
    "\n",
    "- **Aufteilung der Stichproben**: Die Gesamtzahl der zu generierenden Stichproben wird auf mehrere parallele Aufgaben (Threads) aufgeteilt.\n",
    "- **Parallele Ausführung**: Die parallelen Aufgaben werden mithilfe des `concurrent.futures.ThreadPoolExecutor` ausgeführt.\n",
    "- **Sammlung und Zusammenführung der Ergebnisse**: Die Ergebnisse der parallelen Aufgaben werden gesammelt und zusammengeführt, um den endgültigen Wert von Pi zu schätzen.\n",
    "\n",
    "Hier ist der Code, der diese Schritte umsetzt:"
   ]
  },
  {
   "cell_type": "code",
   "execution_count": null,
   "metadata": {},
   "outputs": [],
   "source": [
    "import concurrent.futures\n",
    "import random\n",
    "import math\n",
    "\n",
    "def estimate_pi(num_samples):\n",
    "    inside_circle = 0\n",
    "    for _ in range(num_samples):\n",
    "        x = random.uniform(-1, 1)\n",
    "        y = random.uniform(-1, 1)\n",
    "        if x*x + y*y <= 1:\n",
    "            inside_circle += 1\n",
    "    return inside_circle\n",
    "\n",
    "def main():\n",
    "    num_samples = 10**7  # Gesamtzahl der zu generierenden Stichproben\n",
    "    num_workers = 4  # Anzahl der parallelen Aufgaben\n",
    "\n",
    "    # Teile die Stichproben auf die Anzahl der Arbeiter auf\n",
    "    samples_per_worker = num_samples // num_workers\n",
    "\n",
    "    with concurrent.futures.ThreadPoolExecutor(max_workers=num_workers) as executor:\n",
    "        futures = [executor.submit(estimate_pi, samples_per_worker) for _ in range(num_workers)]\n",
    "        \n",
    "        total_inside_circle = sum(future.result() for future in concurrent.futures.as_completed(futures))\n",
    "\n",
    "    # Schätze Pi\n",
    "    pi_estimate = (4.0 * total_inside_circle) / num_samples\n",
    "    print(f\"Geschätzter Wert von Pi: {pi_estimate:.10f}\")\n",
    "\n",
    "\n",
    "main()\n"
   ]
  },
  {
   "cell_type": "markdown",
   "metadata": {},
   "source": [
    "# Deadlocks\n",
    "\n",
    "Um Fehler den parallelen Zugriff auf Ressourcen zu verhindern, kann man versucht sein, so viele Locks wie möglich in seine Programme zu implementieren. Allerdings wirken sich zu viele Locks negativ auf die Performance aus. Und noch dazu erhöht jeder Lock die Chance auf einen sogenannten **Dead Lock**:\n",
    "\n",
    "- Deadlocks sind Situationen in denen ein Thread1 eine Ressource gelockt hat und nun an einem bestimmten Punkt darauf wartet, dass Thread2 eine von ihm gelockte Ressource freigibt. Thread2 hat diese Ressource gelockt und wartet seinerseits aber auf die von Thread1 gelockte Ressource. Beide warten damit bis in die Unendlichkeit. \n",
    "- Solche Deadlock-Situationen zu vermeiden ist die eigentliche Kunst der Multithreading-Programmierung.\n",
    "\n",
    "![deadlock](./images/deadlock.png)\n"
   ]
  }
 ],
 "metadata": {
  "kernelspec": {
   "display_name": "Python 3",
   "language": "python",
   "name": "python3"
  },
  "language_info": {
   "codemirror_mode": {
    "name": "ipython",
    "version": 3
   },
   "file_extension": ".py",
   "mimetype": "text/x-python",
   "name": "python",
   "nbconvert_exporter": "python",
   "pygments_lexer": "ipython3",
   "version": "3.11.9"
  }
 },
 "nbformat": 4,
 "nbformat_minor": 2
}
