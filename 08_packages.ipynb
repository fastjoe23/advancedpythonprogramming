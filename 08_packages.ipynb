{
 "cells": [
  {
   "cell_type": "markdown",
   "metadata": {},
   "source": [
    "# Packages (eigene + externe)\n",
    "\n",
    "## Was sind Packages?\n",
    "Ein Package in Python ist eine Sammlung von Modulen, die in einer Verzeichnisstruktur organisiert sind. Ein Package ermöglicht es, Module logisch zu gruppieren und Wiederverwendbarkeit und Modularität des Codes zu fördern.\n",
    "\n",
    "Ein Package wird durch ein Verzeichnis repräsentiert, das eine spezielle Datei namens `__init__.py` enthält. Diese Datei kann leer sein, dient aber dazu, Python mitzuteilen, dass das Verzeichnis als Package behandelt werden soll.\n",
    "\n",
    "Packages können mittels `import` zum eigenen Code hinzugefügt werden.\n",
    "\n",
    "Wir haben schon mit Packages gearbeitet:"
   ]
  },
  {
   "cell_type": "code",
   "execution_count": null,
   "metadata": {},
   "outputs": [],
   "source": [
    "# Beispiel math-Package\n",
    "import math\n",
    "math.sqrt(15)"
   ]
  },
  {
   "cell_type": "markdown",
   "metadata": {},
   "source": [
    "Es gibt für Python (und eigentlich jede moderne Programmiersprache) eine riesige Anzahl an Packages um den Funktionsumfang der Sprachen zu erweitern.\n",
    "\n",
    "Ein sehr weitverbreitetes ist z.B. `numpy`. Mit diesem werden die mathematischen Funkionalitäten deutlich erweitert."
   ]
  },
  {
   "cell_type": "code",
   "execution_count": null,
   "metadata": {},
   "outputs": [],
   "source": [
    "# Beispiel Matrixmultiplikation mit Numpy\n",
    "import numpy as np #namespace ändern zu np\n",
    "A = np.array([[1, 0],[0,1]])\n",
    "B = np.array([[1,2],[3,4]])\n",
    "np.matmul(A,B)"
   ]
  },
  {
   "cell_type": "markdown",
   "metadata": {},
   "source": [
    "## Erstellen eines eigenen Packages\n",
    "Um ein eigenes Package zu erstellen, müssen wir die folgende Struktur erstellen:\n",
    "```\n",
    "my_package/\n",
    " |--init.py\n",
    " |--module1.py\n",
    " |--module2.py"
   ]
  },
  {
   "cell_type": "markdown",
   "metadata": {},
   "source": [
    "\n",
    "### Schritt 1: Verzeichnisstruktur erstellen\n",
    "Erstellen Sie ein Verzeichnis namens `my_package`. In diesem Verzeichnis erstellen Sie eine leere Datei namens `__init__.py` und zwei Module, `module1.py` und `module2.py`.\n",
    "\n",
    "### Schritt 2: Module mit Funktionen füllen\n",
    "Fügen Sie in `module1.py` und `module2.py` einige Beispiel-Funktionen hinzu.\n",
    "\n",
    "\n",
    "Wir lassen das mal Python für uns machen:"
   ]
  },
  {
   "cell_type": "code",
   "execution_count": null,
   "metadata": {},
   "outputs": [],
   "source": [
    "# Erstellen des Verzeichnisses und der Dateien (nur zur Veranschaulichung, in der Realität manuell erstellen)\n",
    "import os\n",
    "\n",
    "# Verzeichnis erstellen\n",
    "os.makedirs('my_package', exist_ok=True)\n",
    "\n",
    "# __init__.py erstellen\n",
    "with open('my_package/__init__.py', 'w') as f:\n",
    "    f.write(\"\"\"\n",
    "# hier Initialisierungscode, der beim Import des Paketes einmalig ausgeführt wird\n",
    "\"\"\")\n",
    "\n",
    "# module1.py erstellen\n",
    "with open('my_package/module1.py', 'w') as f:\n",
    "    f.write(\"\"\"\n",
    "def greet(name):\n",
    "    return f\"Hello, {name}!\"\n",
    "\"\"\")\n",
    "\n",
    "# module2.py erstellen\n",
    "with open('my_package/module2.py', 'w') as f:\n",
    "    f.write(\"\"\"\n",
    "def add(a, b):\n",
    "    return a + b\n",
    "\n",
    "def subtract(a, b):\n",
    "    return a - b\n",
    "\"\"\")\n"
   ]
  },
  {
   "cell_type": "markdown",
   "metadata": {},
   "source": [
    "# Verwendung des Packages\n",
    "\n",
    "Und jetzt können wir unser eigenes Package `my_package` auch schon verwenden:"
   ]
  },
  {
   "cell_type": "code",
   "execution_count": null,
   "metadata": {},
   "outputs": [],
   "source": [
    "# Importieren der Module aus dem Package\n",
    "from my_package import module1, module2\n",
    "\n",
    "# Verwendung der Funktionen\n",
    "print(module1.greet(\"Alice\"))\n",
    "print(module2.add(5, 3))\n",
    "print(module2.subtract(5, 3))"
   ]
  },
  {
   "cell_type": "markdown",
   "metadata": {},
   "source": [
    "# Verwendung von externen Packages\n",
    "\n",
    "Wir wollen nun an einem Beispiel die Verwendung eines externen Packages ausprobieren. Hierzu verwenden wir das Package `fpdf` zum Erstellen von PDF-Dokumenten.\n",
    "\n",
    "Wie auch schon bei `pytest`ist `fpdf` nicht standardmäßig installiert, wir müssen es also noch nach installieren:"
   ]
  },
  {
   "cell_type": "code",
   "execution_count": null,
   "metadata": {},
   "outputs": [],
   "source": [
    "%pip install fpdf"
   ]
  },
  {
   "cell_type": "markdown",
   "metadata": {},
   "source": [
    "## Erstellen von PDFs mit `fpdf`\n",
    "\n",
    "Das `fpdf`-Modul ist eine leichtgewichtige Bibliothek zum Erstellen von PDF-Dokumenten in Python. Es ermöglicht das Hinzufügen von Text, Bildern und anderen Elementen zu einem PDF-Dokument.\n",
    "\n",
    "Hier geht es zur Dokumentation: [Read The Docs](https://pyfpdf.readthedocs.io/en/latest/)\n",
    "\n",
    "Und hier wird das Paket entwickelt: [GitHub/fpdf](https://github.com/reingart/pyfpdf)\n",
    "\n",
    "Wir starten mit einem einfachen Beispiel:"
   ]
  },
  {
   "cell_type": "code",
   "execution_count": null,
   "metadata": {},
   "outputs": [],
   "source": [
    "from fpdf import FPDF\n",
    "\n",
    "# Erstellen einer Klasse, die von FPDF erbt\n",
    "class PDF(FPDF):\n",
    "    def header(self):\n",
    "        pass\n",
    "\n",
    "    def footer(self):\n",
    "        pass\n",
    "\n",
    "    def chapter_title(self, title):\n",
    "        pass\n",
    "    \n",
    "    def chapter_body(self, body):\n",
    "        pass\n",
    "    \n",
    "# Erstellen eines PDF-Dokuments\n",
    "pdf = PDF()\n",
    "pdf.add_page()\n",
    "pdf.chapter_title('Einführung in Python-Packages')\n",
    "pdf.chapter_body('Ein Package in Python ist eine Sammlung von Modulen, die in einer Verzeichnisstruktur organisiert sind...')\n",
    "\n",
    "# Speichern des PDF-Dokuments\n",
    "pdf.output('example.pdf')"
   ]
  },
  {
   "cell_type": "markdown",
   "metadata": {},
   "source": [
    "# Achtung bei Verwendung von externen Packages\n",
    "\n",
    "![image](./images/allmoderninfrastructure.png)\n",
    "\n",
    "\n",
    "https://xkcd.com/2347/\n",
    "\n",
    "Bitte fragen Sie mich nach [`log4j`](https://en.wikipedia.org/wiki/Log4Shell) und/oder [`XZ-Utils`](https://de.wikipedia.org/wiki/CVE-2024-3094)."
   ]
  },
  {
   "cell_type": "markdown",
   "metadata": {},
   "source": [
    "# Aufgabe 1 (Spam PDFs)\n",
    "\n",
    "Erstellen Sie ein Skript, das eine Liste von Namen und E-Mail-Adressen durchläuft und für jeden Eintrag ein individuelles Spam-PDF generiert. Jedes PDF sollte eine persönliche Begrüßung und eine Spam-Nachricht enthalten. \n",
    "Vervollständigen Sie hierfür die unten stehende Klasse `SpamPDF`.\n",
    "\n",
    "Um die Leser zum Klick auf einen Malware-Link, oder zu echten Senden einer Nachricht zu ermutigen, könnten auch Bilder oder Links Teil des PDFs sein. Seien Sie hier gerne kreativ."
   ]
  },
  {
   "cell_type": "code",
   "execution_count": null,
   "metadata": {},
   "outputs": [],
   "source": [
    "from fpdf import FPDF\n",
    "\n",
    "class SpamPDF(FPDF):\n",
    "    def header(self):\n",
    "        pass\n",
    "\n",
    "    def footer(self):\n",
    "        pass\n",
    "\n",
    "    def add_spam_message(self, name, email):\n",
    "        \n",
    "        spam_message = (\n",
    "            f\"Lieber {name},\\n\\n\"\n",
    "            f\"Wir haben eine fantastische Gelegenheit für Sie! \"\n",
    "            f\"Bitte antworten Sie umgehend auf diese Nachricht an {email} \"\n",
    "            \"und erhalten Sie eine unglaubliche Belohnung!\\n\\n\"\n",
    "            \"Mit freundlichen Grüßen,\\n\"\n",
    "            \"Ihr Spam-Team\"\n",
    "        )\n",
    "        # jetzt sollte die spam_message noch verwendet werden"
   ]
  },
  {
   "cell_type": "code",
   "execution_count": null,
   "metadata": {},
   "outputs": [],
   "source": [
    "#Mit folgendem Code können Sie ihr pdf-Tool testen:\n",
    "# Liste von Namen und E-Mail-Adressen\n",
    "recipients = [\n",
    "    {\"name\": \"Alice\", \"email\": \"alice@example.com\"},\n",
    "    {\"name\": \"Bob\", \"email\": \"bob@example.com\"},\n",
    "    {\"name\": \"Charlie\", \"email\": \"charlie@example.com\"}\n",
    "]\n",
    "\n",
    "# Erstellen der PDFs für jeden Empfänger\n",
    "for recipient in recipients:\n",
    "    pdf = SpamPDF()\n",
    "    pdf.add_spam_message(recipient[\"name\"], recipient[\"email\"])\n",
    "    filename = f'spam_{recipient[\"name\"].lower()}.pdf'\n",
    "    pdf.output(filename)\n",
    "    print(f\"Das PDF-Dokument '{filename}' wurde erstellt.\")"
   ]
  },
  {
   "cell_type": "markdown",
   "metadata": {},
   "source": [
    "*Nebenbemerkung:* E-mails versendet man in python mit dem Paket `smtplib`. "
   ]
  },
  {
   "cell_type": "markdown",
   "metadata": {},
   "source": [
    "# Aufgabe 2 (matplotlib Tutorial)\n",
    "\n",
    "Ein weiteres sehr weitverbreitetes Paket ist `matplotlib`zur Visualisierung von Daten. Vor allem im Bereich *Data Science* kommt kaum ein Projekt ohne `numpy` und `matplotlib` aus.\n",
    "\n",
    "Ihre Aufgabe ist es sich in `matplotlib`einzuarbeiten und folgende Aufgaben/Codezellen zu lösen."
   ]
  },
  {
   "cell_type": "markdown",
   "metadata": {},
   "source": [
    "**a) Einstieg**\n",
    "\n",
    "Erstellen Sie ein Diagramm, das die Funktionen $x$, $x^2$ und $\\sqrt{x}$​ darstellt."
   ]
  },
  {
   "cell_type": "code",
   "execution_count": null,
   "metadata": {},
   "outputs": [],
   "source": [
    "import numpy as np\n",
    "import matplotlib.pyplot as plt\n",
    "\n",
    "# Daten erstellen\n",
    "x = np.linspace(0, 10, 100)\n",
    "y1 = x\n",
    "y2 = x**2\n",
    "y3 = np.sqrt(x)\n",
    "\n",
    "# Plot erstellen\n",
    "pass\n",
    "\n",
    "# Titel und Labels hinzufügen\n",
    "pass\n",
    "# Plot anzeigen\n",
    "plt.show()\n"
   ]
  },
  {
   "cell_type": "markdown",
   "metadata": {},
   "source": [
    "**b) Barplot**\n",
    "\n",
    "Erstellen Sie einen Barplot, der die Anzahl der Studenten in verschiedenen Studiengängen darstellt."
   ]
  },
  {
   "cell_type": "code",
   "execution_count": null,
   "metadata": {},
   "outputs": [],
   "source": [
    "import matplotlib.pyplot as plt\n",
    "\n",
    "# Daten erstellen\n",
    "studiengaenge = ['Informatik', 'Mathematik', 'Physik', 'Chemie', 'Biologie']\n",
    "anzahl_studenten = [120, 80, 60, 40, 30]\n",
    "\n",
    "# Barplot erstellen\n",
    "pass\n",
    "\n",
    "# Titel und Labels hinzufügen\n",
    "pass\n",
    "\n",
    "# Plot anzeigen\n",
    "plt.show()\n"
   ]
  },
  {
   "cell_type": "markdown",
   "metadata": {},
   "source": [
    "**c) Histogramm**\n",
    "\n",
    "Erstellen Sie ein Histogramm, das die Verteilung der Noten in einer Klausur darstellt."
   ]
  },
  {
   "cell_type": "code",
   "execution_count": null,
   "metadata": {},
   "outputs": [],
   "source": [
    "import numpy as np\n",
    "import matplotlib.pyplot as plt\n",
    "\n",
    "# Daten erstellen\n",
    "noten = np.random.normal(2.5, 1.0, 1000)  # Normalverteilung mit Mittelwert 2.5 und Standardabweichung 1.0\n",
    "\n",
    "# Histogramm erstellen\n",
    "pass\n",
    "\n",
    "# Titel und Labels hinzufügen\n",
    "pass\n",
    "\n",
    "# Plot anzeigen\n",
    "plt.show()"
   ]
  },
  {
   "cell_type": "markdown",
   "metadata": {},
   "source": [
    "**d) Scatterplot**\n",
    "\n",
    "Erstellen Sie einen Scatterplot, der die Beziehung zwischen der Lernzeit und der erreichten Punktzahl in einer Prüfung darstellt."
   ]
  },
  {
   "cell_type": "code",
   "execution_count": null,
   "metadata": {},
   "outputs": [],
   "source": [
    "import numpy as np\n",
    "import matplotlib.pyplot as plt\n",
    "\n",
    "# Daten erstellen\n",
    "np.random.seed(42)\n",
    "lernzeit = np.random.rand(50) * 10  # Zufällige Lernzeit zwischen 0 und 10 Stunden\n",
    "punktzahl = lernzeit * 3 + np.random.randn(50) * 2  # Lineare Beziehung mit etwas Rauschen\n",
    "\n",
    "# Scatterplot erstellen\n",
    "pass\n",
    "\n",
    "# Titel und Labels hinzufügen\n",
    "pass\n",
    "\n",
    "# Plot anzeigen\n",
    "plt.show()\n"
   ]
  },
  {
   "cell_type": "markdown",
   "metadata": {},
   "source": [
    "**e) Kuchendiagramm**\n",
    "\n",
    "Erstellen Sie ein Kuchendiagramm, das die prozentuale Verteilung der Marktanteile verschiedener Smartphone-Marken darstellt."
   ]
  },
  {
   "cell_type": "code",
   "execution_count": null,
   "metadata": {},
   "outputs": [],
   "source": [
    "import matplotlib.pyplot as plt\n",
    "\n",
    "# Daten erstellen\n",
    "marken = ['Apple', 'Samsung', 'Huawei', 'Xiaomi', 'Andere']\n",
    "marktanteile = [30, 25, 20, 15, 10]\n",
    "\n",
    "# Kuchendiagramm erstellen\n",
    "pass\n",
    "\n",
    "# Titel hinzufügen\n",
    "pass\n",
    "\n",
    "# Plot anzeigen\n",
    "plt.show()\n"
   ]
  },
  {
   "cell_type": "markdown",
   "metadata": {},
   "source": [
    "# Aufgabe 3 (ChatGPT)\n",
    "Mit dem Paket openai kann man sehr einfach Prompts per Python an ChatGPT schicken.\n",
    "\n",
    "Um das Paket verwenden zu können, müssen Sie einen API-Key verwenden. Einen für heute gültigen Key bekommen Sie von Ihrem Dozenten."
   ]
  },
  {
   "cell_type": "code",
   "execution_count": null,
   "metadata": {},
   "outputs": [],
   "source": [
    "from openai import OpenAI\n",
    "client = OpenAI(api_key=\"abcde\")"
   ]
  },
  {
   "cell_type": "markdown",
   "metadata": {},
   "source": [
    "Nach dem Import kann mittels `client.chat.completions.create` ein Prompt an ChatGPT gesendet werden."
   ]
  },
  {
   "cell_type": "code",
   "execution_count": null,
   "metadata": {},
   "outputs": [],
   "source": [
    "prompt = \"Hier ihren Prompt ergänzen\"\n",
    "completion = client.chat.completions.create(\n",
    "        model=\"gpt-4o-mini\",\n",
    "        store=True,\n",
    "        temperature=0.9,\n",
    "        messages=[{\"role\": \"user\", \"content\": prompt}]\n",
    "    )\n",
    "print(completion.choices[0].message.content)"
   ]
  },
  {
   "cell_type": "markdown",
   "metadata": {},
   "source": [
    "Die Doku zu Verwendung des Paketes finden Sie unter:\n",
    "\n",
    "https://platform.openai.com/docs/overview"
   ]
  },
  {
   "cell_type": "markdown",
   "metadata": {},
   "source": [
    "# KI Motivator\n",
    "Schreiben Sie ein Python-Programm, das:\n",
    "   - einen Namen und ein aktuelles Ziel oder eine Herausforderung per `input()` abfragt,\n",
    "   - daraus einen geeigneten Prompt erstellt,\n",
    "   - diesen an das Modell `gpt-3.5-turbo` sendet,\n",
    "   - und dann einen motivierenden Spruch zurückliefert.\n",
    "     \n",
    "Geben Sie das Ergebnis ansprechend formatiert im Notebook aus."
   ]
  }
 ],
 "metadata": {
  "kernelspec": {
   "display_name": "Python 3 (ipykernel)",
   "language": "python",
   "name": "python3"
  },
  "language_info": {
   "codemirror_mode": {
    "name": "ipython",
    "version": 3
   },
   "file_extension": ".py",
   "mimetype": "text/x-python",
   "name": "python",
   "nbconvert_exporter": "python",
   "pygments_lexer": "ipython3",
   "version": "3.12.9"
  }
 },
 "nbformat": 4,
 "nbformat_minor": 4
}
