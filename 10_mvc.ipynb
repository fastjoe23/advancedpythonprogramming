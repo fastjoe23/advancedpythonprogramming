{
 "cells": [
  {
   "cell_type": "markdown",
   "metadata": {},
   "source": [
    "# Architekturmodell für GUIs\n",
    "\n",
    "Agenda:\n",
    "- Einführung in Architekturmodelle\n",
    "- Erste GUI-Anwendung\n",
    "\n",
    "\n",
    "\n",
    "## Einführung in Architekturmodelle\n",
    "\n",
    "Architekturmodelle sind Muster, die die Struktur einer Softwareanwendung definieren. Sie helfen dabei, den Code zu organisieren und zu modularisieren, um die Wartbarkeit und Erweiterbarkeit der Anwendung zu verbessern. In der Entwicklung von grafischen Benutzeroberflächen (GUIs) ist das Model-View-Controller (MVC) Modell eines der am häufigsten verwendeten Muster."
   ]
  },
  {
   "cell_type": "markdown",
   "metadata": {},
   "source": [
    "# Model-View-Controller \n",
    "\n",
    "<div style=\"display: flex; align-items: flex-start;\">\n",
    "    <div style=\"flex: 1;\">\n",
    "        <p>\n",
    "            Das MVC-Modell teilt eine Anwendung in drei Hauptkomponenten:\n",
    "\n",
    "1. **View**:\n",
    "   - Präsentiert die Daten aus dem Model für den Benutzer.\n",
    "   - Reagiert auf Benutzereingaben und stellt eine Schnittstelle zur Verfügung, um die Daten anzuzeigen und zu bearbeiten.\n",
    "   - Ist für das Layout und die Darstellung der Benutzeroberfläche verantwortlich.\n",
    "\n",
    "2. **Controller**:\n",
    "   - Vermittelt zwischen Model und View.\n",
    "   - Verarbeitet Benutzereingaben von der View und übersetzt diese in Aktionen, die das Model ändern.\n",
    "   - Aktualisiert die View basierend auf den Änderungen im Model.\n",
    "\n",
    "3. **Model**:\n",
    "   - Repräsentiert die Daten und die Geschäftslogik der Anwendung.\n",
    "   - Verwaltet den Zustand und die Logik der Daten.\n",
    "   - Benachrichtigt den Controller über Änderungen an den Daten, damit dieser die View aktualisiert.\n",
    "        </p>\n",
    "    </div>\n",
    "    <div style=\"flex: 1; text-align: left;\">\n",
    "        <!-- Hier ist Ihr Bild -->\n",
    "        <img src=\"./images/model_view_controller.png\" alt=\"Model-View-Controller\" style=\"max-width: 100%;\">\n",
    "    </div>\n",
    "</div>\n"
   ]
  },
  {
   "cell_type": "markdown",
   "metadata": {},
   "source": [
    "## Vorteile des MVC-Modells\n",
    "\n",
    "- **Trennung von Anliegen**: Durch die Aufteilung der Anwendung in Model, View und Controller wird der Code sauber getrennt. Dies erleichtert die Wartung und Erweiterung der Anwendung.\n",
    "- **Wiederverwendbarkeit**: Komponenten des Models und der View können unabhängig voneinander wiederverwendet werden.\n",
    "- **Testbarkeit**: Einzelne Komponenten können unabhängig getestet werden, was die Qualität der Software erhöht.\n"
   ]
  },
  {
   "cell_type": "markdown",
   "metadata": {},
   "source": [
    "# Brutto-Netto-Rechner mi GUI\n",
    "\n",
    "Wir wollen nun den Brutto-Netto-Rechner als GUI-Anwendung im MVC-Schema implementieren. Wir starten mit der **View**, implementieren dann das **Model**, anschließend den **Controller** und zum Schluss kleben wir alles zusammen."
   ]
  },
  {
   "cell_type": "markdown",
   "metadata": {},
   "source": [
    "## View\n",
    "\n",
    "Für den Brutto-Netto-Rechner benötigen wir:\n",
    "- Eine Eingabemöglichkeit für den Brutto-Betrag (`floatText`-Feld)\n",
    "- Einen `Button` um die Berechnung zu starten \n",
    "- Ein `Label` um das Ergebnis ausgeben zu können\n",
    "\n",
    "\n",
    "Ungefähr so könnte unsere Oberfläche aussehen (siehe Skizze an der Tafel).\n",
    "\n",
    "Lassen Sie uns coden:"
   ]
  },
  {
   "cell_type": "code",
   "execution_count": null,
   "metadata": {},
   "outputs": [],
   "source": [
    "import ipywidgets as widgets\n",
    "from IPython.display import display\n",
    "\n",
    "class View_Brutto_Netto:\n",
    "    def __init__(self) -> None:\n",
    "        \"\"\"Initialisiert die View-Komponenten.\"\"\"\n",
    "        pass\n",
    "    \n",
    "    def render(self):\n",
    "        \"\"\"Rendert die View-Komponenten.\"\"\"\n",
    "        pass"
   ]
  },
  {
   "cell_type": "markdown",
   "metadata": {},
   "source": [
    "# Model\n",
    "\n",
    "Unser Model ist in diesem Fall sehr einfach. Wir benötigen:\n",
    "- eine Konstante für den Mehrwertsteuersatz\n",
    "- eine Variable um den Brutto-Betrag zu speichern\n",
    "- eine Variable für den Netto-Betrag\n",
    "- eine Methode, die aus dem Brutto-Betrag den Netto-Betrag berechnet\n",
    "\n",
    "Los gehts:"
   ]
  },
  {
   "cell_type": "code",
   "execution_count": null,
   "metadata": {},
   "outputs": [],
   "source": [
    "class Model_Brutto_Netto:\n",
    "    MWST_SATZ = 0.19 #Konstante für die Mwst\n",
    "    \n",
    "    def __init__(self):\n",
    "        \"\"\"Initialisiert das Model mit Standardwerten.\"\"\"\n",
    "        pass\n",
    "\n",
    "    def calculate(self) -> float:\n",
    "        \"\"\"Berechnet den Netto-Betrag aus dem Brutto-Betrag.\"\"\"\n",
    "        pass"
   ]
  },
  {
   "cell_type": "markdown",
   "metadata": {},
   "source": [
    "# Controller\n",
    "\n",
    "Fehlt nur der Controller. Der sollte:\n",
    "- View und Model zusammenbringen\n",
    "- die Logik für den Knopf beinhalten\n",
    "- eine Methode zum Update der View und\n",
    "- eine Methode zum Update des Models beinhalten.\n",
    "\n",
    "Da die Anwendung hier aber so klein ist, machen wir Update-Model und Update-View in einem.\n",
    "Here we go:"
   ]
  },
  {
   "cell_type": "code",
   "execution_count": null,
   "metadata": {},
   "outputs": [],
   "source": [
    "class Controller_Brutto_Netto:\n",
    "    def __init__(self, model, view) -> None:\n",
    "        \"\"\"Initialisiert den Controller mit Model und View.\"\"\"\n",
    "        pass\n",
    "\n",
    "    def calculate_and_update_view(self, _):\n",
    "        \"\"\"Berechnet den Netto-Betrag und aktualisiert die View.\"\"\"\n",
    "        pass\n"
   ]
  },
  {
   "cell_type": "markdown",
   "metadata": {},
   "source": [
    "# Anwendung \n",
    "\n",
    "Jetzt müssen wir die einzelnen Teile nur noch zusammenbringen:"
   ]
  },
  {
   "cell_type": "code",
   "execution_count": null,
   "metadata": {},
   "outputs": [],
   "source": [
    "# App\n",
    "pass"
   ]
  },
  {
   "cell_type": "markdown",
   "metadata": {},
   "source": [
    "# Aufgabe: Erstellen einer Zahlenraten-Anwendung\n",
    "\n",
    "In dieser Aufgabe werden Sie eine kleine GUI-Anwendung erstellen, bei der der Computer sich eine Zufallszahl ausdenkt und der Spieler diese erraten muss. Der Computer denkt sich eine Zufallszahl zwischen 0 und einer Obergrenze aus. Nach jedem Rateversuch gibt er einen Hinweis aus, ob die richtige Zahl kleiner oder größer als der Tipp war.\n",
    "\n",
    "Bevor Sie mit der Programmierung beginnen, erstellen Sie bitte eine Skizze der Benutzeroberfläche, die folgende Elemente enthält:\n",
    "\n",
    "1. Ein Eingabefeld und/oder einen Slider für die Zahl, die der Spieler raten möchte.\n",
    "2. Einen Button \"Rate\", um die geratene Zahl einzugeben.\n",
    "3. Einen Button \"Neues Spiel\", um ein neues Spiel zu starten.\n",
    "4. Ein Label, das die Anzahl der Rateversuche anzeigt.\n",
    "5. Ein Ergebnis-Label, das dem Spieler Feedback gibt, ob die geratene Zahl zu hoch, zu niedrig oder korrekt ist.\n",
    "\n",
    "## Schritte:\n",
    "\n",
    "1. **Skizzieren Sie die Benutzeroberfläche:**\n",
    "   - Zeichnen Sie eine einfache Skizze der Benutzeroberfläche auf Papier oder in einem Grafikprogramm.\n",
    "   - Stellen Sie sicher, dass alle oben genannten Elemente enthalten sind.\n",
    "   - Überlegen Sie sich, wie die Elemente angeordnet sein sollen, um eine benutzerfreundliche Oberfläche zu schaffen.\n",
    "   - Beschriften Sie in Ihrer Skizze alle Elemente mit den entsprechenden Bezeichnungen (z.B. Eingabefeld, Rate-Button, etc.).\n",
    "\n",
    "2. **Implementieren Sie die View**\n",
    "   - Ergänzen Sie die Klasse View unten geeignet.\n",
    "   \n",
    "3. **Implementieren des Models**\n",
    "   - Überlegen Sie sich, welche internen Variablen ihre Anwendung benötigt.\n",
    "   - Welche Methoden benötigt das Model?\n",
    "   - Ergänzen Sie dann die Klasse Model unten geeignet.\n",
    "\n",
    "4. **Überlegen Sie sich das Verhalten der Anwendung:**\n",
    "   - Wie soll die Anwendung reagieren, wenn der Spieler auf \"Rate\" klickt?\n",
    "   - Was soll passieren, wenn der Spieler auf \"Neues Spiel\" klickt?\n",
    "   - Wie soll die Anzahl der Rateversuche aktualisiert werden?\n",
    "   - Welche Meldungen soll das Ergebnis-Label anzeigen?\n",
    "   - Implementieren Sie all das im Controller.\n",
    "\n",
    "Viel Erfolg!\n"
   ]
  },
  {
   "cell_type": "markdown",
   "metadata": {},
   "source": [
    "## View Zahlenraten\n",
    "Implementieren Sie hier die View-Klasse:"
   ]
  },
  {
   "cell_type": "code",
   "execution_count": null,
   "metadata": {},
   "outputs": [],
   "source": [
    "import ipywidgets as widgets\n",
    "from IPython.display import display\n",
    "\n",
    "class View():\n",
    "    \"\"\" Initialisiert die Komponenten der grafischen Oberfläche\n",
    "        und enthält eine Methode zum rendern der Oberfläche.\n",
    "    \"\"\"\n",
    "    UPPER_BOUND = 50\n",
    "\n",
    "    def __init__(self) -> None:\n",
    "        # Eingabefelder\n",
    "        \n",
    "        # Buttons\n",
    "        \n",
    "        # Ausgabefelder\n",
    "\n",
    "        # Container für alle Elemente \n",
    "        pass\n",
    "\n",
    "    def render(self):\n",
    "        \"\"\" Rendert die Oberfläche\n",
    "        \"\"\"\n",
    "        display(self.container)"
   ]
  },
  {
   "cell_type": "markdown",
   "metadata": {},
   "source": [
    "# Model Zahlenraten\n",
    "\n",
    "Implementieren Sie hier das Model für die Anwendung Zahlenraten.\n",
    "\n",
    "*Hinweis:*\n",
    "```python\n",
    "import random\n",
    "zahl = random.randint(1,50)\n",
    "````\n",
    "erzeugt eine Zufallszahl zwischen 1 und 50."
   ]
  },
  {
   "cell_type": "code",
   "execution_count": null,
   "metadata": {},
   "outputs": [],
   "source": [
    "import random\n",
    "\n",
    "class Model():\n",
    "    \"\"\"Verwaltet die Spiel-Logik und den Zustand der Zahlenraten-Anwendung.\"\"\"\n",
    "   \n",
    "    def __init__(self):\n",
    "        pass"
   ]
  },
  {
   "cell_type": "markdown",
   "metadata": {},
   "source": [
    "# Controller\n",
    "\n",
    "Implementieren Sie hier den Controller der Anwendung:"
   ]
  },
  {
   "cell_type": "code",
   "execution_count": null,
   "metadata": {},
   "outputs": [],
   "source": [
    "class Controller:\n",
    "    \"\"\"Verwaltet die Interaktionen zwischen Model und View.\"\"\"\n",
    "    \n",
    "    def __init__(self, model, view):\n",
    "        self.model = model\n",
    "        self.view = view\n",
    "\n",
    "        \n",
    "\n",
    "    def update_model(self):\n",
    "        \"\"\" Übergibt die Daten aus der View an das Model und aktualisiert dieses\"\"\"\n",
    "        pass\n",
    "\n",
    "    def update_view(self):\n",
    "        \"\"\" Holt die Daten aus dem Model und aktualisiert die Oberfläche\n",
    "        \"\"\"\n",
    "        pass\n",
    "        \n",
    "\n",
    "\n",
    "# Instanziierung der MVC-Komponenten und Start der Anwendung\n",
    "model = Model()\n",
    "view = View()\n",
    "controller = Controller(model, view)\n",
    "view.render()\n"
   ]
  },
  {
   "cell_type": "markdown",
   "metadata": {},
   "source": [
    "## Zusatzaufgabe Feintuning\n",
    "\n",
    "Der Button zum Raten sollte zu Beginn nicht klickbar sein, sondern nur der Button für ein neues Spiel. Sobald ein neues Spiel gestartet wurde, soll es genau umgekehrt sein. Überlegen Sie, in welcher Methode diese Eigenschaften geeignet gesetzt werden und wie das Model Rückmeldung geben kann, ob die Buttons klickbar sein sollen.\n",
    "\n",
    "*Hinweis:* Buttons haben in ipywidgets das Attribut `disabled`. Dieses kann auf `True` oder `False` gesetzt werden. \n",
    "\n"
   ]
  }
 ],
 "metadata": {
  "kernelspec": {
   "display_name": "Python 3",
   "language": "python",
   "name": "python3"
  },
  "language_info": {
   "codemirror_mode": {
    "name": "ipython",
    "version": 3
   },
   "file_extension": ".py",
   "mimetype": "text/x-python",
   "name": "python",
   "nbconvert_exporter": "python",
   "pygments_lexer": "ipython3",
   "version": "3.11.9"
  }
 },
 "nbformat": 4,
 "nbformat_minor": 2
}
