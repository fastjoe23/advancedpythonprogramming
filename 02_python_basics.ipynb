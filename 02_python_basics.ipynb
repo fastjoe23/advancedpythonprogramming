{
 "cells": [
  {
   "cell_type": "markdown",
   "metadata": {},
   "source": [
    "# Python Crash Course 1\n",
    "\n",
    "# Agenda\n",
    "Innerhalb dieses Notebooks behandeln wir:\n",
    "- Python Einführung\n",
    "- IPYNB: Interactive Python Notebooks\n",
    "- Datentypen und Variablen\n",
    "- Schleifen und Kontrollstrukturen\n",
    "\n",
    "\n",
    "\n",
    "# Python Einführung\n",
    "Hinweis: Dies ist *kein* Sprachkurs! Obwohl ich die wichtigen Teile der Sprache (und der Standardbibliothek) behandeln werde, die für den Unterrichtsstoff relevant sind, erwarte ich, dass Sie die Sprache in Ihrer eigenen Zeit vollständig lernen.\n",
    "\n",
    "Python ...\n",
    "\n",
    "- ist *interpretiert*\n",
    "- ist *dynamisch typisiert* (im Gegensatz zu statisch typisiert)\n",
    "- ist *automatisch speicherverwaltet*\n",
    "- unterstützt *prozedurale*, *objektorientierte*, *imperative* und *funktionale* Programmierparadigmen\n",
    "- wurde (größtenteils) von einem einzigen Mann entwickelt: [Guido van Rossum](https://gvanrossum.github.io/) (auch bekannt als \"wohlwollender Diktator\"), und hat daher ein ziemlich *meinungsstarkes* Design\n",
    "- hat eine einzige Referenzimplementierung (CPython)\n",
    "- Version 3 (die aktuellste Version) ist *nicht abwärtskompatibel* mit Version 2, obwohl letztere noch weit verbreitet ist\n",
    "- hat eine interessante Programmierphilosophie: \"There should be one — and preferably only one — obvious way to do it.\" (a.k.a. the \"Pythonic\" way) — see [The Zen of Python](https://www.python.org/dev/peps/pep-0020/)\n",
    "\n",
    "# Falls Sie sich immmer noch fragen warum:\n",
    "![image](./images/python.png)\n",
    "\n",
    "\n",
    "https://xkcd.com/353/\n",
    "\n",
    "\n",
    "\n"
   ]
  },
  {
   "cell_type": "markdown",
   "metadata": {},
   "source": [
    "## Einführung in Python und Notebooks\n",
    "\n",
    "Interaktive Python-Notebooks bestehen aus Zellen. Jede Zelle beinhaltet Code oder Text. Eine Text-Zelle (so wie diese) enthält Text und kann mittels **markdown** formatiert werden. Ein Doppelklick auf die Zelle macht diese bearbeitbar.\n",
    "\n",
    "Eine Code-Zelle (so wie die nächste) enthält Code. Typischerweise Python-Code (es geht aber viel, viel mehr: R, Java, Julia, SQL, ...). Zum Ausführen einer Code-Zelle kann der \"Play\"-Button links von der Zelle gedrückt werden oder innerhalb der Zelle die Tastenkombination Strg + Enter gedrückt werden. \n",
    "\n",
    "\n",
    "Hello World in Python:"
   ]
  },
  {
   "cell_type": "code",
   "execution_count": null,
   "metadata": {},
   "outputs": [],
   "source": [
    "print(\"Hello World\")"
   ]
  },
  {
   "cell_type": "markdown",
   "metadata": {},
   "source": [
    "Beim Ausführen einer Zelle in einem Notebook wird als \"Ergebnis\" (standardmäßig) der Wert angezeigt, der sich aus der Auswertung des *letzten Ausdrucks* in der Zelle ergibt. Wenn das letzte Konstrukt in einer Zelle kein Ausdruck ist (z.B. eine Anweisung), oder der Ausdruck zu `None` ausgewertet wird (mehr dazu später), dann wird kein Ergebnis angezeigt."
   ]
  },
  {
   "cell_type": "code",
   "execution_count": null,
   "metadata": {},
   "outputs": [],
   "source": [
    "3 + 3\n",
    "2 + 5"
   ]
  },
  {
   "cell_type": "markdown",
   "metadata": {},
   "source": [
    "Die *Ausgabe* (z.B. durch `print` erzeugt) wird getrennt vom Ergebnis der Zelle angezeigt. Mehrere Ausgaben werden gesammelt und im gleichen Ausgabebereich für eine bestimmte Zelle angezeigt."
   ]
  },
  {
   "cell_type": "code",
   "execution_count": null,
   "metadata": {},
   "outputs": [],
   "source": [
    "print(3+3)\n",
    "print(2+5)\n",
    "2 * 3"
   ]
  },
  {
   "cell_type": "markdown",
   "metadata": {},
   "source": [
    "Wenn wir das Ergebnis mehrerer Ausdrücke in einer Zelle sehen möchten, fassen wir die Ausdrücke oft in Klammern zusammen, wodurch ein aggregierter Wert entsteht, der als *Tupel* bezeichnet wird."
   ]
  },
  {
   "cell_type": "code",
   "execution_count": null,
   "metadata": {},
   "outputs": [],
   "source": [
    "(1+2, 2*3, 4/5)"
   ]
  },
  {
   "cell_type": "code",
   "execution_count": null,
   "metadata": {},
   "outputs": [],
   "source": [
    "(6*7, not True, 'hello' + 'world')"
   ]
  },
  {
   "cell_type": "markdown",
   "metadata": {},
   "source": [
    "# Zahlen"
   ]
  },
  {
   "cell_type": "code",
   "execution_count": null,
   "metadata": {},
   "outputs": [],
   "source": [
    "# int: integers, unlimited precision\n",
    "(\n",
    "    1,\n",
    "    500,\n",
    "    -123456789,\n",
    "    6598293784982739874982734\n",
    ")"
   ]
  },
  {
   "cell_type": "code",
   "execution_count": null,
   "metadata": {},
   "outputs": [],
   "source": [
    "# basic operations\n",
    "(\n",
    "    1 + 2,\n",
    "    1 - 2,\n",
    "    2 * 3,\n",
    "    2 * 3 + 2 * 4,\n",
    "    2 / 5,\n",
    "    2 ** 3, # exponentiation\n",
    "    abs(-25)\n",
    ")"
   ]
  },
  {
   "cell_type": "markdown",
   "metadata": {},
   "source": [
    "# Wahrheitswerte"
   ]
  },
  {
   "cell_type": "code",
   "execution_count": null,
   "metadata": {},
   "outputs": [],
   "source": [
    "(\n",
    "    True, \n",
    "    False\n",
    ")"
   ]
  },
  {
   "cell_type": "code",
   "execution_count": null,
   "metadata": {},
   "outputs": [],
   "source": [
    "(\n",
    "    True and True,\n",
    "    False and True,\n",
    "    True and False,\n",
    "    False and False\n",
    ")"
   ]
  },
  {
   "cell_type": "code",
   "execution_count": null,
   "metadata": {},
   "outputs": [],
   "source": [
    "(\n",
    "    True or True,\n",
    "    False or True,\n",
    "    True or False,\n",
    "    False or False\n",
    ")"
   ]
  },
  {
   "cell_type": "code",
   "execution_count": null,
   "metadata": {},
   "outputs": [],
   "source": [
    "# relational operators\n",
    "(\n",
    "    1 == 1,\n",
    "    1 != 2,\n",
    "    1 < 2,\n",
    "    1 <= 1,\n",
    "    1 > 0,\n",
    "    1 >= 1,\n",
    "    1.0 == 1,\n",
    "    1.00000000001 == 1,\n",
    "    type(1) == type(1.0)\n",
    ")"
   ]
  },
  {
   "cell_type": "code",
   "execution_count": null,
   "metadata": {},
   "outputs": [],
   "source": [
    "# chained relational operators\n",
    "x = 10\n",
    "y = 20\n",
    "z = 30\n",
    "(\n",
    "    0 <= x < 100, \n",
    "    0 <= x and x < 100,\n",
    "    x < y < z < 40,\n",
    "    x <  y and y < z and z < 40,\n",
    "    x < z > y,\n",
    "    x < z and z > y\n",
    ")"
   ]
  },
  {
   "cell_type": "code",
   "execution_count": null,
   "metadata": {},
   "outputs": [],
   "source": [
    "# object identity (reference) testing\n",
    "x = 1000\n",
    "y = 1000\n",
    "(\n",
    "    x == x,   # value comparison\n",
    "    x is x,   # identity comparison\n",
    "    x == y,\n",
    "    x is y,\n",
    "    id(x) == id(y) # `id` returns the memory address (aka \"identity\") of an object\n",
    ")\n",
    "id(x)"
   ]
  },
  {
   "cell_type": "code",
   "execution_count": null,
   "metadata": {},
   "outputs": [],
   "source": [
    "print(id(y), id(x))"
   ]
  },
  {
   "cell_type": "code",
   "execution_count": null,
   "metadata": {},
   "outputs": [],
   "source": [
    "# but Python caches small integers! so ...\n",
    "x = 5\n",
    "y = 5\n",
    "print(x is y)\n",
    "y = 6\n",
    "print(x is y)"
   ]
  },
  {
   "cell_type": "markdown",
   "metadata": {},
   "source": [
    "# Basis-Typen \n",
    "In Python haben Variablen keine *Typen*! Werte haben Typen, aber diese werden nicht explizit deklariert. Eine Variable kann während ihrer Lebenszeit verschiedene Typ-Ausprägungen annehmen:"
   ]
  },
  {
   "cell_type": "code",
   "execution_count": null,
   "metadata": {},
   "outputs": [],
   "source": [
    "a = 2 # starts out an integer\n",
    "print(type(a)) # the `type` function tells us the type of a value\n",
    "\n",
    "a = 1.5\n",
    "print(type(a))\n",
    "\n",
    "a = 'hello'\n",
    "print(type(a))"
   ]
  },
  {
   "cell_type": "markdown",
   "metadata": {},
   "source": [
    "### Datentypen\n",
    "- Text Type: \tstr\n",
    "- Numeric Types: \tint, float, complex\n",
    "- Sequence Types: \tlist, tuple, range\n",
    "- Mapping Type: \tdict\n",
    "- Set Types: \tset, frozenset\n",
    "- Boolean Type: \tbool\n",
    "- Binary Types: \tbytes, bytearray, memoryview\n",
    "\n",
    "Siehe auch https://docs.python.org/3/library/stdtypes.html"
   ]
  },
  {
   "cell_type": "code",
   "execution_count": null,
   "metadata": {},
   "outputs": [],
   "source": [
    "x = 5\n",
    "print(type(x))\n",
    "x = \"Hello World\"\n",
    "print(type(x))\n",
    "x = 20.5 \t\n",
    "print(type(x)) \t\n",
    "x = 1j \t\n",
    "print(type(x)) \t\n",
    "x = [\"apple\", \"banana\", \"cherry\"] \t\n",
    "print(type(x)) \t\n",
    "x = (\"apple\", \"banana\", \"cherry\") \t\n",
    "print(type(x)) \t\n",
    "x = range(6) \t\n",
    "print(type(x)) \t\n",
    "x = {\"name\" : \"John\", \"age\" : 36} \t\n",
    "print(type(x)) \t\n",
    "x = {\"apple\", \"banana\", \"cherry\"} \t\n",
    "print(type(x)) \t\n",
    "x = True \n",
    "print(type(x)) \t"
   ]
  },
  {
   "cell_type": "markdown",
   "metadata": {},
   "source": [
    "## Vereinfachungen"
   ]
  },
  {
   "cell_type": "code",
   "execution_count": null,
   "metadata": {},
   "outputs": [],
   "source": [
    "a = 0\n",
    "a += 2\n",
    "a *=3\n",
    "a"
   ]
  },
  {
   "cell_type": "code",
   "execution_count": null,
   "metadata": {},
   "outputs": [],
   "source": [
    "# easy python \"swap\"\n",
    "\n",
    "a, b = 'apples', 'bananas'\n",
    "a, b = b, a"
   ]
  },
  {
   "cell_type": "markdown",
   "metadata": {},
   "source": [
    "# If-Else\n",
    "Achtung in Python gibt es keine Block-Beginn-Ende-Markierungen, wie Klammern o.ä. Es wird mit Einrückungen (4 Leerzeichen  oder 1 Tab) gearbeitet."
   ]
  },
  {
   "cell_type": "code",
   "execution_count": null,
   "metadata": {},
   "outputs": [],
   "source": [
    "x = 2\n",
    "if x == 2:\n",
    "    print(\"x hat den Wert 2\")\n",
    "else:\n",
    "    print(\"x ist ungleich 2\")"
   ]
  },
  {
   "cell_type": "code",
   "execution_count": null,
   "metadata": {},
   "outputs": [],
   "source": [
    "score = 70\n",
    "grade = None\n",
    "\n",
    "if score >= 90:\n",
    "    grade = 'A'\n",
    "elif score >= 80:\n",
    "    grade = 'B'\n",
    "elif score >= 70:\n",
    "    grade = 'C'\n",
    "elif score >= 60:\n",
    "    grade = 'D'\n",
    "else:\n",
    "    grade = 'E'\n",
    "\n",
    "(score, grade)"
   ]
  },
  {
   "cell_type": "markdown",
   "metadata": {},
   "source": [
    "# Schleifen\n",
    "In Python kann über so ziemlich alles iteriert werden (solange es [iterable](https://docs.python.org/3/glossary.html#term-iterable) ist). Wir können über Listen, Tupel, Strings, oder auch Ranges iterieren. \n",
    "Ein einfacher for-loop sieht so aus:"
   ]
  },
  {
   "cell_type": "code",
   "execution_count": null,
   "metadata": {},
   "outputs": [],
   "source": [
    "for i in range(5): # range(n) erstellt eine Zahlenspanne von 0 bis n-1\n",
    "    print(i) # beachte die Einrückung"
   ]
  },
  {
   "cell_type": "code",
   "execution_count": null,
   "metadata": {},
   "outputs": [],
   "source": [
    "for c in \"hello world\":\n",
    "    print(c)"
   ]
  },
  {
   "cell_type": "code",
   "execution_count": null,
   "metadata": {},
   "outputs": [],
   "source": [
    "for x in (a,1,True):\n",
    "    print(x)"
   ]
  },
  {
   "cell_type": "markdown",
   "metadata": {},
   "source": [
    "While Loop"
   ]
  },
  {
   "cell_type": "code",
   "execution_count": null,
   "metadata": {},
   "outputs": [],
   "source": [
    "i = 10\n",
    "s = 0\n",
    "while i!=0:\n",
    "  s = s + i\n",
    "  i = i - 1\n",
    "print(s)"
   ]
  },
  {
   "cell_type": "markdown",
   "metadata": {},
   "source": [
    "# Aufgaben\n",
    "\n",
    "Bitte bearbeiten Sie die folgenden Aufgaben."
   ]
  },
  {
   "cell_type": "markdown",
   "metadata": {},
   "source": [
    "## Aufgabe 1 (Multiplikationstabelle)\n",
    "\n",
    "Schreiben Sie ein Programm, das eine Multiplikationstabelle für die Zahlen 1 bis 10 erzeugt und anzeigt. Das Programm soll Schleifen und bedingte Anweisungen verwenden, um die Tabelle zu berechnen und auszugeben.\n",
    "\n",
    "Hinweis: mit `f\"{zahlenvariable:4}\"` können Sie steuern, dass die Werte der Variable `zahlenvariable` mit 4 Stellen dargestellt werden. \n",
    "\n",
    "Gewünschte Ausgabe:\n",
    "```\n",
    "Multiplikationstabelle für 1 bis 10:\n",
    "   1    2    3    4    5    6    7    8    9   10\n",
    "   2    4    6    8   10   12   14   16   18   20\n",
    "   3    6    9   12   15   18   21   24   27   30\n",
    "   4    8   12   16   20   24   28   32   36   40\n",
    "   5   10   15   20   25   30   35   40   45   50\n",
    "   6   12   18   24   30   36   42   48   54   60\n",
    "   7   14   21   28   35   42   49   56   63   70\n",
    "   8   16   24   32   40   48   56   64   72   80\n",
    "   9   18   27   36   45   54   63   72   81   90\n",
    "  10   20   30   40   50   60   70   80   90  100\n",
    "```"
   ]
  },
  {
   "cell_type": "code",
   "execution_count": null,
   "metadata": {},
   "outputs": [],
   "source": [
    "# Gibt eine Multiplikationstabelle des kleinen Einmal-Eins aus\n",
    "# Initialisierung\n",
    "n = 10\n",
    "# Berechnung und Anzeige der Multiplikationstabelle\n",
    "print(f\"Multiplikationstabelle für 1 bis {n}:\")\n",
    "\n",
    "for i in range(1, n + 1):\n",
    "    for j in range(1, n + 1):\n",
    "        produkt = i * j\n",
    "        # Das Produkt formatieren, damit die Tabelle ordentlich aussieht\n",
    "        print(f\"{produkt:4}\", end=\" \")\n",
    "    print()  # Neue Zeile nach jeder Reihe"
   ]
  },
  {
   "cell_type": "markdown",
   "metadata": {},
   "source": [
    "# Aufgabe 2 (Zählspiel)\n",
    "\n",
    "Schreiben Sie ein Programm, das von 1 bis zu einer definierten Zahl n zählt und dabei bestimmte Bedingungen überprüft. Wenn die Zahl durch 3 teilbar ist, soll das Programm \"Fizz\" ausgeben, wenn die Zahl durch 5 teilbar ist, soll es \"Buzz\" ausgeben, und wenn die Zahl durch 3 und 5 teilbar ist, soll es \"FizzBuzz\" ausgeben.\n",
    "\n",
    "Hinweis: Mit `%` können Sie modulo rechnen. Bspw. hat `(6 % 3 == 0)` den Wahrheitswert `True`.\n",
    "\n",
    "Beispielausgabe:\n",
    "```\n",
    "1\n",
    "2\n",
    "Fizz\n",
    "4\n",
    "Buzz\n",
    "Fizz\n",
    "7\n",
    "8\n",
    "Fizz\n",
    "Buzz\n",
    "...\n",
    "```"
   ]
  },
  {
   "cell_type": "code",
   "execution_count": null,
   "metadata": {},
   "outputs": [],
   "source": [
    "# Initialisierung\n",
    "n = 30\n",
    "\n",
    "# Zählen und Bedingungsprüfung\n",
    "for i in range(1, n + 1):\n",
    "    if i % 3 == 0 and i % 5 == 0:\n",
    "        print(\"FizzBuzz\")\n",
    "    elif i % 3 == 0:\n",
    "        print(\"Fizz\")\n",
    "    elif i % 5 == 0:\n",
    "        print(\"Buzz\")\n",
    "    else:\n",
    "        print(i)"
   ]
  },
  {
   "cell_type": "markdown",
   "metadata": {},
   "source": [
    "## Aufgabe 3 (Primzahlen finden und ausgeben)\n",
    "\n",
    "Schreiben Sie ein Programm, welches alle Primzahlen zwischen 1 und einer definierten Zahl n findet und anzeigt. \n",
    "\n",
    "Beispielausgabe für die definierte Zahl 15:\n",
    "```\n",
    "Primzahlen zwischen 1 und 15:\n",
    "2\n",
    "3\n",
    "5\n",
    "7\n",
    "11\n",
    "13\n",
    "```\n"
   ]
  },
  {
   "cell_type": "code",
   "execution_count": null,
   "metadata": {},
   "outputs": [],
   "source": [
    "# Initialisierung\n",
    "n = 50\n",
    "\n",
    "# Primzahlprüfung und Anzeige\n",
    "print(f\"Primzahlen zwischen 1 und {n}:\")\n",
    "\n",
    "for num in range(2, n + 1):\n",
    "    # Überprüfen, ob num eine Primzahl ist\n",
    "    is_prime = True\n",
    "    for i in range(2, int(num**0.5) + 1):\n",
    "        if num % i == 0:\n",
    "            is_prime = False\n",
    "            break\n",
    "    if is_prime:\n",
    "        print(num)\n"
   ]
  }
 ],
 "metadata": {
  "kernelspec": {
   "display_name": "Python 3",
   "language": "python",
   "name": "python3"
  },
  "language_info": {
   "codemirror_mode": {
    "name": "ipython",
    "version": 3
   },
   "file_extension": ".py",
   "mimetype": "text/x-python",
   "name": "python",
   "nbconvert_exporter": "python",
   "pygments_lexer": "ipython3",
   "version": "3.11.9"
  }
 },
 "nbformat": 4,
 "nbformat_minor": 2
}
